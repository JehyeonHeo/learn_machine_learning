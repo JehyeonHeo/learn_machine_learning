{
 "cells": [
  {
   "cell_type": "code",
   "execution_count": 4,
   "metadata": {
    "collapsed": true
   },
   "outputs": [],
   "source": [
    "# %load validate_poi.py\n",
    "#!/usr/bin/python\n",
    "\n",
    "\n",
    "\"\"\"\n",
    "    Starter code for the validation mini-project.\n",
    "    The first step toward building your POI identifier!\n",
    "\n",
    "    Start by loading/formatting the data\n",
    "\n",
    "    After that, it's not our code anymore--it's yours!\n",
    "\"\"\"\n",
    "\n",
    "import pickle\n",
    "import sys\n",
    "sys.path.append(\"../tools/\")\n",
    "from feature_format import featureFormat, targetFeatureSplit\n",
    "from sklearn.tree import DecisionTreeClassifier\n",
    "\n",
    "data_dict = pickle.load(open(\"../final_project/final_project_dataset.pkl\", \"r\") )"
   ]
  },
  {
   "cell_type": "code",
   "execution_count": 3,
   "metadata": {
    "collapsed": true
   },
   "outputs": [],
   "source": [
    "### first element is our labels, any added elements are predictor\n",
    "### features. Keep this the same for the mini-project, but you'll\n",
    "### have a different feature list when you do the final project.\n",
    "features_list = [\"poi\", \"salary\"]\n",
    "\n",
    "data = featureFormat(data_dict, features_list)\n",
    "labels, features = targetFeatureSplit(data)"
   ]
  },
  {
   "cell_type": "code",
   "execution_count": 7,
   "metadata": {},
   "outputs": [],
   "source": [
    "#Create a decision tree classifier (just use the default parameters), train it on all the data (you will fix this in the next part!), \n",
    "#and print out the accuracy.\n",
    "### it's all yours from here forward!  \n",
    "def make_and_fit_decisiontreeclf(feature_train, label_train):\n",
    "    clf = DecisionTreeClassifier()\n",
    "    clf.fit(feature_train, label_train)\n",
    "    return clf"
   ]
  },
  {
   "cell_type": "code",
   "execution_count": 8,
   "metadata": {},
   "outputs": [
    {
     "name": "stdout",
     "output_type": "stream",
     "text": [
      "The accuracy when all data was used for training the classifier: 0.989473684211\n"
     ]
    }
   ],
   "source": [
    "#print the accuracy when all data was used to train the classifier.\n",
    "clf = make_and_fit_decisiontreeclf(features, labels)\n",
    "acc = clf.score(features, labels)\n",
    "print \"The accuracy when all data was used for training the classifier:\", acc"
   ]
  },
  {
   "cell_type": "code",
   "execution_count": 10,
   "metadata": {},
   "outputs": [
    {
     "name": "stdout",
     "output_type": "stream",
     "text": [
      "The accuracy when 70% of data was used for training the classifier: 0.724137931034\n"
     ]
    }
   ],
   "source": [
    "#Hold out 30% of the data for testing and set the random_state parameter to 42 \n",
    "#(random_state controls which points go into the training set and which are used for testing; \n",
    "#setting it to 42 means we know exactly which events are in which set, and can check the results you get). \n",
    "#What’s your updated accuracy?\n",
    "from sklearn.model_selection import train_test_split\n",
    "feature_train, feature_test, label_train, label_test = train_test_split(features, labels, test_size = 0.3, random_state = 42)\n",
    "clf_after_train_test_split = make_and_fit_decisiontreeclf(feature_train, label_train)\n",
    "acc_after_train_test_split = clf_after_train_test_split.score(feature_test, label_test)\n",
    "print \"The accuracy when 70% of data was used for training the classifier:\", acc_after_train_test_split"
   ]
  }
 ],
 "metadata": {
  "kernelspec": {
   "display_name": "Python [conda env:py27]",
   "language": "python",
   "name": "conda-env-py27-py"
  },
  "language_info": {
   "codemirror_mode": {
    "name": "ipython",
    "version": 2
   },
   "file_extension": ".py",
   "mimetype": "text/x-python",
   "name": "python",
   "nbconvert_exporter": "python",
   "pygments_lexer": "ipython2",
   "version": "2.7.13"
  }
 },
 "nbformat": 4,
 "nbformat_minor": 2
}
