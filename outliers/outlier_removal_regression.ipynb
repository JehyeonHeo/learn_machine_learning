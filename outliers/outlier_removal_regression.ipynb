{
 "cells": [
  {
   "cell_type": "code",
   "execution_count": 1,
   "metadata": {},
   "outputs": [
    {
     "name": "stderr",
     "output_type": "stream",
     "text": [
      "C:\\Users\\JehyeonHeo\\Anaconda3\\envs\\py27\\lib\\site-packages\\sklearn\\cross_validation.py:41: DeprecationWarning: This module was deprecated in version 0.18 in favor of the model_selection module into which all the refactored classes and functions are moved. Also note that the interface of the new CV iterators are different from that of this module. This module will be removed in 0.20.\n",
      "  \"This module will be removed in 0.20.\", DeprecationWarning)\n"
     ]
    }
   ],
   "source": [
    "# %load outlier_removal_regression.py\n",
    "#!/usr/bin/python\n",
    "\n",
    "import random\n",
    "import numpy\n",
    "import matplotlib.pyplot as plt\n",
    "import pickle\n",
    "\n",
    "from outlier_cleaner import outlierCleaner\n",
    "\n",
    "\n",
    "### load up some practice data with outliers in it\n",
    "ages = pickle.load( open(\"practice_outliers_ages.pkl\", \"r\") )\n",
    "net_worths = pickle.load( open(\"practice_outliers_net_worths.pkl\", \"r\") )\n",
    "\n",
    "\n",
    "\n",
    "### ages and net_worths need to be reshaped into 2D numpy arrays\n",
    "### second argument of reshape command is a tuple of integers: (n_rows, n_columns)\n",
    "### by convention, n_rows is the number of data points\n",
    "### and n_columns is the number of features\n",
    "ages       = numpy.reshape( numpy.array(ages), (len(ages), 1))\n",
    "net_worths = numpy.reshape( numpy.array(net_worths), (len(net_worths), 1))\n",
    "\n",
    "from sklearn.cross_validation import train_test_split\n",
    "ages_train, ages_test, net_worths_train, net_worths_test = train_test_split(ages, net_worths, test_size=0.1, random_state=42)"
   ]
  },
  {
   "cell_type": "code",
   "execution_count": 2,
   "metadata": {},
   "outputs": [
    {
     "data": {
      "text/plain": [
       "LinearRegression(copy_X=True, fit_intercept=True, n_jobs=1, normalize=False)"
      ]
     },
     "execution_count": 2,
     "metadata": {},
     "output_type": "execute_result"
    }
   ],
   "source": [
    "### fill in a regression here!  Name the regression object reg so that\n",
    "### the plotting code below works, and you can see what your regression looks like\n",
    "from sklearn.linear_model import LinearRegression\n",
    "reg = LinearRegression()\n",
    "reg.fit(ages_train, net_worths_train)"
   ]
  },
  {
   "cell_type": "code",
   "execution_count": 13,
   "metadata": {},
   "outputs": [
    {
     "data": {
      "image/png": "[encoded data removed]",
      "text/plain": [
       "<matplotlib.figure.Figure at 0x9819e48>"
      ]
     },
     "metadata": {},
     "output_type": "display_data"
    }
   ],
   "source": [
    "try:\n",
    "    plt.plot(ages, reg.predict(ages), color=\"blue\")\n",
    "except NameError:\n",
    "    pass\n",
    "plt.scatter(ages, net_worths)\n",
    "plt.show()"
   ]
  },
  {
   "cell_type": "code",
   "execution_count": 14,
   "metadata": {},
   "outputs": [
    {
     "name": "stdout",
     "output_type": "stream",
     "text": [
      "Slope: 5.07793064344\n"
     ]
    }
   ],
   "source": [
    "#What slope does your regression have?\n",
    "print \"Slope:\", reg.coef_[0][0]"
   ]
  },
  {
   "cell_type": "code",
   "execution_count": 15,
   "metadata": {},
   "outputs": [
    {
     "name": "stdout",
     "output_type": "stream",
     "text": [
      "Score: 0.878262470366\n"
     ]
    }
   ],
   "source": [
    "#What is the score you get when using your regression to make predictions with the test data?\n",
    "print \"Score:\", reg.score(ages_test, net_worths_test)"
   ]
  },
  {
   "cell_type": "code",
   "execution_count": 3,
   "metadata": {
    "scrolled": false
   },
   "outputs": [
    {
     "name": "stdout",
     "output_type": "stream",
     "text": [
      "(30, 177.46485912830926, 0.083081720534266879)\n",
      "(32, 187.09760490789751, 0.6061972278265273)\n",
      "(29, 173.54835439167368, 1.0783441862704422)\n",
      "(32, 186.46155999388083, 1.2422421418432066)\n",
      "(49, 271.75164334973937, 2.2769797244690722)\n",
      "(45, 256.83312700057957, 3.1162265001321714)\n",
      "(38, 221.33012794213624, 3.1587419457706574)\n",
      "(21, 128.4847139765763, 3.3618510813048772)\n",
      "(22, 140.9273656237994, 4.00286992247797)\n",
      "(21, 136.08924543132068, 4.242680373439498)\n",
      "(45, 259.12330051987942, 5.4064000194320272)\n",
      "(24, 140.78722458080426, 6.2931324073977066)\n",
      "(33, 200.22792608821422, 7.4461933090499315)\n",
      "(30, 185.1870343522352, 7.6390935033916776)\n",
      "(24, 139.40479592465923, 7.6755610635427445)\n",
      "(48, 260.8065975224045, 8.1440949083636838)\n",
      "(30, 186.05979756839332, 8.5118567195497974)\n",
      "(21, 142.1012008717193, 10.254635813838121)\n",
      "(30, 167.24337759331152, 10.304563255532003)\n",
      "(27, 151.96564953554724, 10.34849938297549)\n",
      "(24, 157.51396036691344, 10.433603378711467)\n",
      "(51, 294.82586751838659, 10.641383157297639)\n",
      "(22, 147.76534866226712, 10.840852960945682)\n",
      "(39, 234.36051228130097, 11.111195641495129)\n",
      "(27, 175.37526862807127, 13.061119709548535)\n",
      "(32, 201.83521553071006, 14.131413394986026)\n",
      "(43, 259.43540492859483, 15.874365715027949)\n",
      "(45, 270.00424941518054, 16.287348914733144)\n",
      "(41, 250.26985299068266, 16.864675063996287)\n",
      "(23, 159.09869458305818, 17.09626823829646)\n",
      "(59, 342.18627902203139, 17.378349513420289)\n",
      "(35, 220.96845179419734, 18.030857728152512)\n",
      "(25, 133.88384977349668, 18.274437858145546)\n",
      "(36, 189.73919689274533, 18.276327816739752)\n",
      "(50, 260.1050979182051, 19.00145579944359)\n",
      "(32, 207.14225143023492, 19.438449294510889)\n",
      "(21, 151.32065795784047, 19.474092899959288)\n",
      "(24, 126.98012845155395, 20.100228536648018)\n",
      "(34, 219.73272050095269, 21.873057078348154)\n",
      "(27, 140.25503627573087, 22.05911264279186)\n",
      "(57, 338.08951848957577, 23.437450267845293)\n",
      "(47, 287.91612500413447, 24.04336321680654)\n",
      "(37, 237.73167938789589, 24.638224034970563)\n",
      "(32, 212.95377076201385, 25.249968626289814)\n",
      "(44, 274.7300555052413, 26.091085648234156)\n",
      "(49, 302.53682046672367, 28.508197392515228)\n",
      "(31, 153.99862170798215, 28.627249784301625)\n",
      "(64, 378.84578142088196, 28.648198695069595)\n",
      "(29, 142.98439510684403, 29.485615098559208)\n",
      "(57, 344.21586775541203, 29.563799533681561)\n",
      "(51, 314.06726086101639, 29.882776499927445)\n",
      "(20, 96.753925973294173, 30.014708441146752)\n",
      "(53, 325.06575248297571, 30.725406835006254)\n",
      "(58, 350.48722620162391, 30.757227336453184)\n",
      "(52, 320.48447399026929, 31.222058985740091)\n",
      "(43, 275.32502219319372, 31.763982979626832)\n",
      "(53, 326.56693250553326, 32.226586857563802)\n",
      "(32, 221.14244452437831, 33.438642388654273)\n",
      "(37, 247.70089824206377, 34.60744288913844)\n",
      "(38, 253.93805008750448, 35.766664091138892)\n",
      "(47, 300.0349466519055, 36.162184864577569)\n",
      "(37, 250.76090254244718, 37.667447189521852)\n",
      "(64, 389.11234550949632, 38.914762783683955)\n",
      "(49, 313.12236579136925, 39.093742717160808)\n",
      "(30, 217.96059712816052, 40.412656279316991)\n",
      "(65, 396.66651524309418, 41.39100187384156)\n",
      "(60, 374.28347921780096, 44.397619065749609)\n",
      "(34, 243.79287311628013, 45.933209693675593)\n",
      "(58, 366.67727190009509, 46.947273034924365)\n",
      "(62, 389.24094136476344, 49.199219925831585)\n",
      "(48, 318.62560238232396, 49.674909951555776)\n",
      "(52, 339.76933159990818, 50.506916595378982)\n",
      "(49, 326.86999044991904, 52.841367375710604)\n",
      "(46, 317.0578808948303, 58.263049750942628)\n",
      "(58, 378.75051644788397, 59.020517582713239)\n",
      "(55, 370.87480057141647, 66.378593636566507)\n",
      "(65, 424.5580423540415, 69.282528984788883)\n",
      "(57, 385.56297537843108, 70.910907156700603)\n",
      "(53, 368.29556369017877, 73.95521804220931)\n",
      "(61, 412.83425631014785, 77.870465514656246)\n",
      "(63, 424.51073132931936, 79.391079246947243)\n"
     ]
    }
   ],
   "source": [
    "### identify and remove the most outlier-y points\n",
    "cleaned_data = []\n",
    "try:\n",
    "    predictions = reg.predict(ages_train)\n",
    "    cleaned_data = outlierCleaner( predictions, ages_train, net_worths_train )\n",
    "except NameError:\n",
    "    print \"your regression object doesn't exist, or isn't name reg\"\n",
    "    print \"can't make predictions to use in identifying outliers\""
   ]
  },
  {
   "cell_type": "code",
   "execution_count": 4,
   "metadata": {},
   "outputs": [
    {
     "data": {
      "image/png": "[encoded data removed]",
      "text/plain": [
       "<matplotlib.figure.Figure at 0x44ec5f8>"
      ]
     },
     "metadata": {},
     "output_type": "display_data"
    }
   ],
   "source": [
    "### only run this code if cleaned_data is returning data\n",
    "if len(cleaned_data) > 0:\n",
    "    ages, net_worths, errors = zip(*cleaned_data)\n",
    "    ages       = numpy.reshape( numpy.array(ages), (len(ages), 1))\n",
    "    net_worths = numpy.reshape( numpy.array(net_worths), (len(net_worths), 1))\n",
    "\n",
    "    ### refit your cleaned data!\n",
    "    try:\n",
    "        reg.fit(ages, net_worths)\n",
    "        plt.plot(ages, reg.predict(ages), color=\"blue\")\n",
    "    except NameError:\n",
    "        print \"you don't seem to have regression imported/created,\"\n",
    "        print \"   or else your regression object isn't named reg\"\n",
    "        print \"   either way, only draw the scatter plot of the cleaned data\"\n",
    "    plt.scatter(ages, net_worths)\n",
    "    plt.xlabel(\"ages\")\n",
    "    plt.ylabel(\"net worths\")\n",
    "    plt.show()\n",
    "\n",
    "\n",
    "else:\n",
    "    print \"outlierCleaner() is returning an empty list, no refitting to be done\""
   ]
  },
  {
   "cell_type": "code",
   "execution_count": 6,
   "metadata": {},
   "outputs": [
    {
     "name": "stdout",
     "output_type": "stream",
     "text": [
      "New slope: 6.36859480694\n"
     ]
    }
   ],
   "source": [
    "#What is new slope?\n",
    "print \"New slope:\", reg.coef_[0][0]"
   ]
  }
 ],
 "metadata": {
  "kernelspec": {
   "display_name": "Python [conda env:py27]",
   "language": "python",
   "name": "conda-env-py27-py"
  },
  "language_info": {
   "codemirror_mode": {
    "name": "ipython",
    "version": 2
   },
   "file_extension": ".py",
   "mimetype": "text/x-python",
   "name": "python",
   "nbconvert_exporter": "python",
   "pygments_lexer": "ipython2",
   "version": "2.7.13"
  }
 },
 "nbformat": 4,
 "nbformat_minor": 2
}
