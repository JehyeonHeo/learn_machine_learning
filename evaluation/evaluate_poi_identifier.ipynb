{
 "cells": [
  {
   "cell_type": "code",
   "execution_count": 2,
   "metadata": {
    "collapsed": true
   },
   "outputs": [],
   "source": [
    "# %load evaluate_poi_identifier\n",
    "#!/usr/bin/python\n",
    "\n",
    "\n",
    "\"\"\"\n",
    "    Starter code for the evaluation mini-project.\n",
    "    Start by copying your trained/tested POI identifier from\n",
    "    that which you built in the validation mini-project.\n",
    "\n",
    "    This is the second step toward building your POI identifier!\n",
    "\n",
    "    Start by loading/formatting the data...\n",
    "\"\"\"\n",
    "\n",
    "import pickle\n",
    "import sys\n",
    "sys.path.append(\"../tools/\")\n",
    "from feature_format import featureFormat, targetFeatureSplit\n",
    "\n",
    "data_dict = pickle.load(open(\"../final_project/final_project_dataset.pkl\", \"r\") )\n",
    "\n",
    "### add more features to features_list!\n",
    "features_list = [\"poi\", \"salary\"]\n",
    "\n",
    "data = featureFormat(data_dict, features_list)\n",
    "labels, features = targetFeatureSplit(data)"
   ]
  },
  {
   "cell_type": "code",
   "execution_count": 3,
   "metadata": {
    "collapsed": true
   },
   "outputs": [],
   "source": [
    "#Create a decision tree classifier (just use the default parameters), train it on all the data (you will fix this in the next part!), \n",
    "#and print out the accuracy.\n",
    "### it's all yours from here forward!  \n",
    "from sklearn.tree import DecisionTreeClassifier\n",
    "\n",
    "def make_and_fit_decisiontreeclf(feature_train, label_train):\n",
    "    clf = DecisionTreeClassifier()\n",
    "    clf.fit(feature_train, label_train)\n",
    "    return clf"
   ]
  },
  {
   "cell_type": "code",
   "execution_count": 4,
   "metadata": {},
   "outputs": [
    {
     "name": "stdout",
     "output_type": "stream",
     "text": [
      "The accuracy when 70% of data was used for training the classifier: 0.724137931034\n"
     ]
    }
   ],
   "source": [
    "from sklearn.model_selection import train_test_split\n",
    "\n",
    "feature_train, feature_test, label_train, label_test = train_test_split(features, labels, test_size = 0.3, random_state = 42)\n",
    "clf_after_train_test_split = make_and_fit_decisiontreeclf(feature_train, label_train)\n",
    "acc_after_train_test_split = clf_after_train_test_split.score(feature_test, label_test)\n",
    "\n",
    "print \"The accuracy when 70% of data was used for training the classifier:\", acc_after_train_test_split"
   ]
  },
  {
   "cell_type": "code",
   "execution_count": 6,
   "metadata": {},
   "outputs": [
    {
     "name": "stdout",
     "output_type": "stream",
     "text": [
      "The number of people in the test set: 29\n",
      "The number of POIs predicted for the test set: 4.0\n"
     ]
    }
   ],
   "source": [
    "#How many POIs are predicted for the test set for your POI identifier?\n",
    "pred = clf_after_train_test_split.predict(feature_test)\n",
    "num_testset = len(pred)\n",
    "num_poi_predicted_testset = sum(pred)\n",
    "print \"The number of people in the test set:\", num_testset\n",
    "print \"The number of POIs predicted for the test set:\", num_poi_predicted_testset"
   ]
  },
  {
   "cell_type": "code",
   "execution_count": 7,
   "metadata": {},
   "outputs": [
    {
     "name": "stdout",
     "output_type": "stream",
     "text": [
      "predicted, actual\n",
      "0.0 0.0\n",
      "0.0 0.0\n",
      "0.0 0.0\n",
      "0.0 0.0\n",
      "1.0 0.0\n",
      "0.0 0.0\n",
      "0.0 0.0\n",
      "0.0 0.0\n",
      "0.0 0.0\n",
      "0.0 0.0\n",
      "0.0 0.0\n",
      "1.0 0.0\n",
      "0.0 0.0\n",
      "0.0 0.0\n",
      "0.0 0.0\n",
      "0.0 0.0\n",
      "0.0 0.0\n",
      "0.0 0.0\n",
      "0.0 0.0\n",
      "1.0 0.0\n",
      "0.0 0.0\n",
      "1.0 0.0\n",
      "0.0 1.0\n",
      "0.0 0.0\n",
      "0.0 1.0\n",
      "0.0 1.0\n",
      "0.0 0.0\n",
      "0.0 1.0\n",
      "0.0 0.0\n"
     ]
    }
   ],
   "source": [
    "#print the predicted labels and test labels.\n",
    "print \"predicted, actual\"\n",
    "for predicted, actual in zip(pred, label_test):\n",
    "    print predicted, actual"
   ]
  },
  {
   "cell_type": "code",
   "execution_count": 8,
   "metadata": {},
   "outputs": [
    {
     "name": "stdout",
     "output_type": "stream",
     "text": [
      "Precision score: 0.0\n",
      "Recall score: 0.0\n"
     ]
    }
   ],
   "source": [
    "#Use the precision_score and recall_score available in sklearn.metrics to compute those quantities.\n",
    "from sklearn.metrics import precision_score\n",
    "from sklearn.metrics import recall_score\n",
    "\n",
    "precision = precision_score(label_test, pred)\n",
    "print \"Precision score:\", precision\n",
    "\n",
    "recall = recall_score(label_test, pred)\n",
    "print \"Recall score:\", recall"
   ]
  }
 ],
 "metadata": {
  "kernelspec": {
   "display_name": "Python [conda env:py27]",
   "language": "python",
   "name": "conda-env-py27-py"
  },
  "language_info": {
   "codemirror_mode": {
    "name": "ipython",
    "version": 2
   },
   "file_extension": ".py",
   "mimetype": "text/x-python",
   "name": "python",
   "nbconvert_exporter": "python",
   "pygments_lexer": "ipython2",
   "version": "2.7.13"
  }
 },
 "nbformat": 4,
 "nbformat_minor": 2
}
