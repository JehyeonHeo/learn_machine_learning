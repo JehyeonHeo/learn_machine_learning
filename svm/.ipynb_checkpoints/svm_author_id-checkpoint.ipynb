{
 "cells": [
  {
   "cell_type": "code",
   "execution_count": 1,
   "metadata": {},
   "outputs": [
    {
     "name": "stderr",
     "output_type": "stream",
     "text": [
      "C:\\Users\\JehyeonHeo\\Anaconda3\\envs\\py27\\lib\\site-packages\\sklearn\\cross_validation.py:41: DeprecationWarning: This module was deprecated in version 0.18 in favor of the model_selection module into which all the refactored classes and functions are moved. Also note that the interface of the new CV iterators are different from that of this module. This module will be removed in 0.20.\n",
      "  \"This module will be removed in 0.20.\", DeprecationWarning)\n"
     ]
    },
    {
     "name": "stdout",
     "output_type": "stream",
     "text": [
      "no. of Chris training emails: 7936\n",
      "no. of Sara training emails: 7884\n"
     ]
    }
   ],
   "source": [
    "# %load svm_author_id.py\n",
    "#!/usr/bin/python\n",
    "\n",
    "\"\"\" \n",
    "    This is the code to accompany the Lesson 2 (SVM) mini-project.\n",
    "\n",
    "    Use a SVM to identify emails from the Enron corpus by their authors:    \n",
    "    Sara has label 0\n",
    "    Chris has label 1\n",
    "\"\"\"\n",
    "    \n",
    "import sys\n",
    "from time import time\n",
    "sys.path.append(\"..\\\\tools\\\\\")\n",
    "from email_preprocess import preprocess\n",
    "from sklearn.svm import SVC\n",
    "\n",
    "### features_train and features_test are the features for the training\n",
    "### and testing datasets, respectively\n",
    "### labels_train and labels_test are the corresponding item labels\n",
    "features_train, features_test, labels_train, labels_test = preprocess()"
   ]
  },
  {
   "cell_type": "code",
   "execution_count": 3,
   "metadata": {},
   "outputs": [
    {
     "name": "stdout",
     "output_type": "stream",
     "text": [
      "training time: 129.942 s\n",
      "predicting time 13.71 s\n",
      "0.984072810011\n"
     ]
    }
   ],
   "source": [
    "#########################################################\n",
    "### your code goes here ###\n",
    "#use linear kernel.\n",
    "clf = SVC(kernel = 'linear')\n",
    "\n",
    "t0 = time()\n",
    "clf.fit(features_train, labels_train)\n",
    "print \"training time:\", round(time()-t0, 3), \"s\"\n",
    "\n",
    "t1 = time()\n",
    "pred = clf.predict(features_test)\n",
    "print \"predicting time\", round(time()-t1, 3), \"s\"\n",
    "\n",
    "print clf.score(features_test, labels_test)\n",
    "#########################################################"
   ]
  },
  {
   "cell_type": "code",
   "execution_count": 6,
   "metadata": {},
   "outputs": [
    {
     "name": "stdout",
     "output_type": "stream",
     "text": [
      "training time with smaller sample: 0.074 s\n",
      "predicting time with smaller sample: 0.787 s\n",
      "accuracy of using smaller sample: 0.884527872582\n"
     ]
    }
   ],
   "source": [
    "#experiment with smaller dataset.\n",
    "features_train_smaller = features_train[:len(features_train)/100] \n",
    "labels_train_smaller = labels_train[:len(labels_train)/100]\n",
    "\n",
    "clf_for_smaller_sample = SVC(kernel = 'linear')\n",
    "\n",
    "t0_smaller_sample = time()\n",
    "clf_for_smaller_sample.fit(features_train_smaller, labels_train_smaller)\n",
    "print \"training time with smaller sample:\", round(time()-t0_smaller_sample, 3), \"s\"\n",
    "\n",
    "t1_smaller_sample = time()\n",
    "pred_with_smaller_sample = clf_for_smaller_sample.predict(features_test)\n",
    "print \"predicting time with smaller sample:\", round(time()-t1_smaller_sample, 3), \"s\"\n",
    "\n",
    "print \"accuracy of using smaller sample:\", clf_for_smaller_sample.score(features_test, labels_test)"
   ]
  },
  {
   "cell_type": "code",
   "execution_count": 5,
   "metadata": {},
   "outputs": [
    {
     "name": "stdout",
     "output_type": "stream",
     "text": [
      "training time with smaller sample using rbf kernel: 0.086 s\n",
      "predicting time with smaller sample using rbf kernel: 0.887 s\n",
      "accuracy of using smaller sample with rbf kernel: 0.616040955631\n"
     ]
    }
   ],
   "source": [
    "#experiment with smaller dataset and rbf kernel.\n",
    "features_train_smaller = features_train[:len(features_train)/100] \n",
    "labels_train_smaller = labels_train[:len(labels_train)/100]\n",
    "\n",
    "clf_for_smaller_sample_using_rbf = SVC(kernel = 'rbf')\n",
    "\n",
    "t0_smaller_sample_using_rbf = time()\n",
    "clf_for_smaller_sample_using_rbf.fit(features_train_smaller, labels_train_smaller)\n",
    "print \"training time with smaller sample using rbf kernel:\", round(time()-t0_smaller_sample_using_rbf, 3), \"s\"\n",
    "\n",
    "t1_smaller_sample_using_rbf = time()\n",
    "pred_with_smaller_sample_using_rbf = clf_for_smaller_sample_using_rbf.predict(features_test)\n",
    "print \"predicting time with smaller sample using rbf kernel:\", round(time()-t1_smaller_sample_using_rbf, 3), \"s\"\n",
    "\n",
    "print \"accuracy of using smaller sample with rbf kernel:\", clf_for_smaller_sample_using_rbf.score(features_test, labels_test)"
   ]
  },
  {
   "cell_type": "code",
   "execution_count": 5,
   "metadata": {},
   "outputs": [
    {
     "name": "stdout",
     "output_type": "stream",
     "text": [
      "training time with smaller sample using rbf kernel: 0.086 s\n",
      "predicting time with smaller sample using rbf kernel: 0.887 s\n",
      "accuracy of using smaller sample with rbf kernel: 0.616040955631\n"
     ]
    }
   ],
   "source": [
    "#experiment with smaller dataset, rbf kernel, and several values of C.\n",
    "features_train_smaller = features_train[:len(features_train)/100] \n",
    "labels_train_smaller = labels_train[:len(labels_train)/100]\n",
    "\n",
    "clf_for_smaller_sample_using_rbf_C10 = SVC(kernel = 'rbf', C = 10)\n",
    "\n",
    "t0_smaller_sample_using_rbf_C10 = time()\n",
    "clf_for_smaller_sample_using_rbf_C10.fit(features_train_smaller, labels_train_smaller)\n",
    "print \"training time with smaller sample using rbf kernel:\", round(time()-t0_smaller_sample_using_rbf_C10, 3), \"s\"\n",
    "\n",
    "t1_smaller_sample_using_rbf_C10 = time()\n",
    "pred_with_smaller_sample_using_rbf_C10 = clf_for_smaller_sample_using_rbf_C10.predict(features_test)\n",
    "print \"predicting time with smaller sample using rbf kernel:\", round(time()-t1_smaller_sample_using_rbf_C10, 3), \"s\"\n",
    "\n",
    "print \"accuracy of using smaller sample with rbf kernel and C = 10:\", clf_for_smaller_sample_using_rbf_C10.score(features_test, labels_test)"
   ]
  },
  {
   "cell_type": "code",
   "execution_count": 8,
   "metadata": {},
   "outputs": [
    {
     "name": "stdout",
     "output_type": "stream",
     "text": [
      "training time with smaller sample using rbf kernel and C = 10: 0.086 s\n",
      "predicting time with smaller sample using rbf kernel and C = 10: 0.888 s\n",
      "accuracy of using smaller sample with rbf kernel and C = 10: 0.616040955631\n"
     ]
    }
   ],
   "source": [
    "#experiment with smaller dataset, rbf kernel, and C = 10.\n",
    "features_train_smaller = features_train[:len(features_train)/100] \n",
    "labels_train_smaller = labels_train[:len(labels_train)/100]\n",
    "\n",
    "clf_for_smaller_sample_using_rbf_C10 = SVC(kernel = 'rbf', C = 10)\n",
    "\n",
    "t0_smaller_sample_using_rbf_C10 = time()\n",
    "clf_for_smaller_sample_using_rbf_C10.fit(features_train_smaller, labels_train_smaller)\n",
    "print \"training time with smaller sample using rbf kernel and C = 10:\", round(time()-t0_smaller_sample_using_rbf_C10, 3), \"s\"\n",
    "\n",
    "t1_smaller_sample_using_rbf_C10 = time()\n",
    "pred_with_smaller_sample_using_rbf_C10 = clf_for_smaller_sample_using_rbf_C10.predict(features_test)\n",
    "print \"predicting time with smaller sample using rbf kernel and C = 10:\", round(time()-t1_smaller_sample_using_rbf_C10, 3), \"s\"\n",
    "\n",
    "print \"accuracy of using smaller sample with rbf kernel and C = 10:\", clf_for_smaller_sample_using_rbf_C10.score(features_test, labels_test)"
   ]
  },
  {
   "cell_type": "code",
   "execution_count": 9,
   "metadata": {},
   "outputs": [
    {
     "name": "stdout",
     "output_type": "stream",
     "text": [
      "training time with smaller sample using rbf kernel and C = 100: 0.084 s\n",
      "predicting time with smaller sample using rbf kernel and C = 100: 0.876 s\n",
      "accuracy of using smaller sample with rbf kernel and C = 100: 0.616040955631\n"
     ]
    }
   ],
   "source": [
    "#experiment with smaller dataset, rbf kernel, and C = 100.\n",
    "features_train_smaller = features_train[:len(features_train)/100] \n",
    "labels_train_smaller = labels_train[:len(labels_train)/100]\n",
    "\n",
    "clf_for_smaller_sample_using_rbf_C100 = SVC(kernel = 'rbf', C = 100)\n",
    "\n",
    "t0_smaller_sample_using_rbf_C100 = time()\n",
    "clf_for_smaller_sample_using_rbf_C100.fit(features_train_smaller, labels_train_smaller)\n",
    "print \"training time with smaller sample using rbf kernel and C = 100:\", round(time()-t0_smaller_sample_using_rbf_C100, 3), \"s\"\n",
    "\n",
    "t1_smaller_sample_using_rbf_C100 = time()\n",
    "pred_with_smaller_sample_using_rbf_C100 = clf_for_smaller_sample_using_rbf_C100.predict(features_test)\n",
    "print \"predicting time with smaller sample using rbf kernel and C = 100:\", round(time()-t1_smaller_sample_using_rbf_C100, 3), \"s\"\n",
    "\n",
    "print \"accuracy of using smaller sample with rbf kernel and C = 100:\", clf_for_smaller_sample_using_rbf_C100.score(features_test, labels_test)"
   ]
  },
  {
   "cell_type": "code",
   "execution_count": 10,
   "metadata": {},
   "outputs": [
    {
     "name": "stdout",
     "output_type": "stream",
     "text": [
      "training time with smaller sample using rbf kernel and C = 1000: 0.081 s\n",
      "predicting time with smaller sample using rbf kernel and C = 1000: 0.842 s\n",
      "accuracy of using smaller sample with rbf kernel and C = 1000: 0.821387940842\n"
     ]
    }
   ],
   "source": [
    "#experiment with smaller dataset, rbf kernel, and C = 1000.\n",
    "features_train_smaller = features_train[:len(features_train)/100] \n",
    "labels_train_smaller = labels_train[:len(labels_train)/100]\n",
    "\n",
    "clf_for_smaller_sample_using_rbf_C1000 = SVC(kernel = 'rbf', C = 1000)\n",
    "\n",
    "t0_smaller_sample_using_rbf_C1000 = time()\n",
    "clf_for_smaller_sample_using_rbf_C1000.fit(features_train_smaller, labels_train_smaller)\n",
    "print \"training time with smaller sample using rbf kernel and C = 1000:\", round(time()-t0_smaller_sample_using_rbf_C1000, 3), \"s\"\n",
    "\n",
    "t1_smaller_sample_using_rbf_C1000 = time()\n",
    "pred_with_smaller_sample_using_rbf_C1000 = clf_for_smaller_sample_using_rbf_C1000.predict(features_test)\n",
    "print \"predicting time with smaller sample using rbf kernel and C = 1000:\", round(time()-t1_smaller_sample_using_rbf_C1000, 3), \"s\"\n",
    "\n",
    "print \"accuracy of using smaller sample with rbf kernel and C = 1000:\", clf_for_smaller_sample_using_rbf_C1000.score(features_test, labels_test)"
   ]
  },
  {
   "cell_type": "code",
   "execution_count": 11,
   "metadata": {},
   "outputs": [
    {
     "name": "stdout",
     "output_type": "stream",
     "text": [
      "training time with smaller sample using rbf kernel and C = 10000: 0.081 s\n",
      "predicting time with smaller sample using rbf kernel and C = 10000: 0.711 s\n",
      "accuracy of using smaller sample with rbf kernel and C = 10000: 0.892491467577\n"
     ]
    }
   ],
   "source": [
    "#experiment with smaller dataset, rbf kernel, and C = 10000.\n",
    "features_train_smaller = features_train[:len(features_train)/100] \n",
    "labels_train_smaller = labels_train[:len(labels_train)/100]\n",
    "\n",
    "clf_for_smaller_sample_using_rbf_C10000 = SVC(kernel = 'rbf', C = 10000)\n",
    "\n",
    "t0_smaller_sample_using_rbf_C10000 = time()\n",
    "clf_for_smaller_sample_using_rbf_C10000.fit(features_train_smaller, labels_train_smaller)\n",
    "print \"training time with smaller sample using rbf kernel and C = 10000:\", round(time()-t0_smaller_sample_using_rbf_C10000, 3), \"s\"\n",
    "\n",
    "t1_smaller_sample_using_rbf_C10000 = time()\n",
    "pred_with_smaller_sample_using_rbf_C10000 = clf_for_smaller_sample_using_rbf_C10000.predict(features_test)\n",
    "print \"predicting time with smaller sample using rbf kernel and C = 10000:\", round(time()-t1_smaller_sample_using_rbf_C10000, 3), \"s\"\n",
    "\n",
    "print \"accuracy of using smaller sample with rbf kernel and C = 10000:\", clf_for_smaller_sample_using_rbf_C10000.score(features_test, labels_test)"
   ]
  },
  {
   "cell_type": "code",
   "execution_count": 13,
   "metadata": {},
   "outputs": [
    {
     "name": "stdout",
     "output_type": "stream",
     "text": [
      "prediction for 10th element: 1\n",
      "prediction for 26th element: 0\n",
      "prediction for 50th element: 1\n"
     ]
    }
   ],
   "source": [
    "#What class does this SVM predict for several elements.\n",
    "class_10th = pred_with_smaller_sample_using_rbf_C10000[10]\n",
    "print \"prediction for 10th element:\", class_10th\n",
    "\n",
    "class_26th = pred_with_smaller_sample_using_rbf_C10000[26]\n",
    "print \"prediction for 26th element:\", class_26th\n",
    "\n",
    "class_50th = pred_with_smaller_sample_using_rbf_C10000[50]\n",
    "print \"prediction for 50th element:\", class_50th"
   ]
  },
  {
   "cell_type": "code",
   "execution_count": 12,
   "metadata": {},
   "outputs": [
    {
     "name": "stdout",
     "output_type": "stream",
     "text": [
      "training time using rbf kernel and C = 10000: 86.145 s\n",
      "predicting time using rbf kernel and C = 10000: 8.87 s\n",
      "accuracy of original sample with rbf kernel and C = 10000: 0.990898748578\n"
     ]
    }
   ],
   "source": [
    "#experiment with original dataset, rbf kernel, and C = 10000.\n",
    "clf_using_rbf_C10000 = SVC(kernel = 'rbf', C = 10000)\n",
    "\n",
    "t0_using_rbf_C10000 = time()\n",
    "clf_using_rbf_C10000.fit(features_train, labels_train)\n",
    "print \"training time using rbf kernel and C = 10000:\", round(time()-t0_using_rbf_C10000, 3), \"s\"\n",
    "\n",
    "t1_using_rbf_C10000 = time()\n",
    "pred_using_rbf_C10000 = clf_using_rbf_C10000.predict(features_test)\n",
    "print \"predicting time using rbf kernel and C = 10000:\", round(time()-t1_using_rbf_C10000, 3), \"s\"\n",
    "\n",
    "print \"accuracy of original sample with rbf kernel and C = 10000:\", clf_using_rbf_C10000.score(features_test, labels_test)"
   ]
  },
  {
   "cell_type": "code",
   "execution_count": 14,
   "metadata": {},
   "outputs": [
    {
     "name": "stdout",
     "output_type": "stream",
     "text": [
      "The number of prediction for 1: 877\n"
     ]
    }
   ],
   "source": [
    "#How many are predicted to be 1(Chris)?\n",
    "print \"The number of prediction for 1:\", sum(pred_using_rbf_C10000 == 1)"
   ]
  }
 ],
 "metadata": {
  "kernelspec": {
   "display_name": "Python [conda env:py27]",
   "language": "python",
   "name": "conda-env-py27-py"
  },
  "language_info": {
   "codemirror_mode": {
    "name": "ipython",
    "version": 2
   },
   "file_extension": ".py",
   "mimetype": "text/x-python",
   "name": "python",
   "nbconvert_exporter": "python",
   "pygments_lexer": "ipython2",
   "version": "2.7.13"
  }
 },
 "nbformat": 4,
 "nbformat_minor": 2
}
