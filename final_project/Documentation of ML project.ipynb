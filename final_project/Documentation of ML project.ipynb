{
 "cells": [
  {
   "cell_type": "markdown",
   "metadata": {},
   "source": [
    "# Documentation of Intro to Machine Learning Project."
   ]
  },
  {
   "cell_type": "code",
   "execution_count": 2,
   "metadata": {
    "collapsed": true
   },
   "outputs": [],
   "source": [
    "import sys\n",
    "import pickle\n",
    "import numpy as np\n",
    "sys.path.append(\"../tools/\")\n",
    "\n",
    "from feature_format import featureFormat, targetFeatureSplit"
   ]
  },
  {
   "cell_type": "markdown",
   "metadata": {},
   "source": [
    "## Basic Data Exploration"
   ]
  },
  {
   "cell_type": "code",
   "execution_count": 3,
   "metadata": {},
   "outputs": [
    {
     "name": "stdout",
     "output_type": "stream",
     "text": [
      "Total number of data points: 146\n",
      "Total number of features: 20\n",
      "\n",
      "The allocation across classes(POI/non-POI):\n",
      "False    128\n",
      "True      18\n",
      "Name: poi, dtype: int64\n",
      "The proportion of POI: 12.33 %\n",
      "\n",
      "The number of NaNs in each feature:\n",
      "loan_advances                142\n",
      "director_fees                129\n",
      "restricted_stock_deferred    128\n",
      "deferral_payments            107\n",
      "deferred_income               97\n",
      "long_term_incentive           80\n",
      "bonus                         64\n",
      "from_this_person_to_poi       60\n",
      "from_poi_to_this_person       60\n",
      "from_messages                 60\n",
      "shared_receipt_with_poi       60\n",
      "to_messages                   60\n",
      "other                         53\n",
      "expenses                      51\n",
      "salary                        51\n",
      "exercised_stock_options       44\n",
      "restricted_stock              36\n",
      "email_address                 35\n",
      "total_payments                21\n",
      "total_stock_value             20\n",
      "poi                            0\n",
      "dtype: int64\n"
     ]
    }
   ],
   "source": [
    "#Show the most important characteristics of the dataset\n",
    "### Load the dictionary containing the dataset\n",
    "with open(\"final_project_dataset.pkl\", \"r\") as data_file:\n",
    "    data_dict = pickle.load(data_file)\n",
    "    \n",
    "import pandas as pd\n",
    "df = pd.DataFrame(data_dict).T\n",
    "\n",
    "#get total number of data points, total number of features\n",
    "num_datapoints = df.shape[0]\n",
    "num_features = df.shape[1] - 1 #I subtracted 1 because POI ins't feature, it is label(class).\n",
    "print \"Total number of data points:\", num_datapoints\n",
    "print \"Total number of features:\", num_features\n",
    "print \"\" #insert blank line\n",
    "\n",
    "#show the allocation across classes(POI/non-POI)\n",
    "poi_allocation = df.poi.value_counts()\n",
    "print \"The allocation across classes(POI/non-POI):\"\n",
    "print poi_allocation\n",
    "print \"The proportion of POI:\", round(poi_allocation.loc[True] / float(df.poi.count()) * 100, 2), \"%\"\n",
    "print \"\" #insert blank line\n",
    "\n",
    "#show how many NaNs in each feature\n",
    "num_NaN_in_each_feature = (df == 'NaN').sum()\n",
    "print \"The number of NaNs in each feature:\"\n",
    "print num_NaN_in_each_feature.sort_values(ascending = False)"
   ]
  },
  {
   "cell_type": "markdown",
   "metadata": {},
   "source": [
    "- The data has skewed classses. Therefore it would be better to use precision and recall as evaluation metrics rather than accuracy. \n",
    "\n",
    "- When considering the number of NaN values of each feature, it would be better to use features like total_stock_value and total_payments rather than loan_advances, director_fees and restricted_stock_deferred."
   ]
  },
  {
   "cell_type": "code",
   "execution_count": 8,
   "metadata": {},
   "outputs": [
    {
     "name": "stdout",
     "output_type": "stream",
     "text": [
      "METTS MARK\n",
      "BAXTER JOHN C\n",
      "ELLIOTT STEVEN\n",
      "CORDES WILLIAM R\n",
      "HANNON KEVIN P\n",
      "MORDAUNT KRISTINA M\n",
      "MEYER ROCKFORD G\n",
      "MCMAHON JEFFREY\n",
      "HORTON STANLEY C\n",
      "PIPER GREGORY F\n"
     ]
    }
   ],
   "source": [
    "#To know the formats of the names in the data, print 10 names.\n",
    "n = 0\n",
    "for data_point in data_dict:\n",
    "    if n == 10:\n",
    "        break\n",
    "    print data_point\n",
    "    n += 1"
   ]
  },
  {
   "cell_type": "markdown",
   "metadata": {},
   "source": [
    "- When I found about ['METTS MARK'](http://money.cnn.com/2006/04/05/news/newsmakers/enron_blog_fortune/), METTS is surname and MARK is first name. And when I also found about ['BAXTER JOHN C'](https://en.wikipedia.org/wiki/J._Clifford_Baxter), BAXTER is surname and JOHN is first name and C is abbreviation of middle name. Therefore it looked like that the names in the data have the surname + first name format or surname + first name + one letter of abbreviation of middle name format."
   ]
  },
  {
   "cell_type": "markdown",
   "metadata": {},
   "source": [
    "## 1. Summarize for us the goal of this project and how machine learning is useful in trying to accomplish it. As part of your answer, give some background on the dataset and how it can be used to answer the project question. Were there any outliers in the data when you got it, and how did you handle those?"
   ]
  },
  {
   "cell_type": "markdown",
   "metadata": {},
   "source": [
    "- The goal of this project is to build a person of interest identifier based on financial and email data made public as a result of the Enron scandal. And machine learning can be useful in this case because it can detect hidden patterns in the data using its features better than humans."
   ]
  },
  {
   "cell_type": "markdown",
   "metadata": {},
   "source": [
    "- In 2000, Enron was one of the largest companies in the United States. By 2002, it had collapsed into bankruptcy due to widespread corporate fraud. The key people of the scancal were Jeff Skilling, Kenneth Lay and Andrew Fastow. Jeff Skilling was the chairman of the Enron board of directors. Kenneth Lay was the CEO of Enron during most of the time that fraud was being perpetrated. Andrew Fastow was CFO (chief financial officer) of Enron during most of the time that fraud was going on. They were sentenced to imprisonment. There is a high possibility that their data appear as outliers."
   ]
  },
  {
   "cell_type": "code",
   "execution_count": 11,
   "metadata": {
    "collapsed": true
   },
   "outputs": [],
   "source": [
    "#I made scatter_plot_for_two_features function to see if there is any outlier.\n",
    "def scatter_plot_for_two_features(data_dict, feature1, feature2):\n",
    "    '''\n",
    "    This function is to draw scatter plot of 2 features and show the distribution of POIs and Non-POIs.\n",
    "    \n",
    "    Inputs: 1) data_dict(type:dict) - data typed dictionary.  \n",
    "            2, 3) feature1, feature2(type:str) - features of the data whose distribution or relation between them you want to see \n",
    "    \n",
    "    Output: None\n",
    "    \n",
    "    In the process of function draw scatter plot of 2 features colored by each label.\n",
    "    Label is automatically designated as 'poi'.\n",
    "    '''\n",
    "    #first element in features_list should be label. In this function, it is 'poi'.\n",
    "    features_list = ['poi', feature1, feature2]\n",
    "\n",
    "    data = featureFormat(data_dict, features_list, sort_keys = True)\n",
    "    labels, features = targetFeatureSplit(data)\n",
    "\n",
    "    %matplotlib inline\n",
    "    import matplotlib.pyplot as plt\n",
    "    import matplotlib.patches as mpatches\n",
    "\n",
    "    for i in range(len(labels)):\n",
    "        point_feature1 = features[i][0]\n",
    "        point_feature2 = features[i][1]\n",
    "\n",
    "        if labels[i] == True:\n",
    "            c = 'red'\n",
    "        else:\n",
    "            c = 'blue'\n",
    "        plt.scatter(point_feature1, point_feature2, c = c, alpha = 0.7)\n",
    "        \n",
    "    plt.xlabel(feature1)\n",
    "    plt.ylabel(feature2)\n",
    "    \n",
    "    red_patch = mpatches.Patch(color = 'red', label = 'POI')\n",
    "    blue_patch = mpatches.Patch(color = 'blue', label = 'Non-POI')\n",
    "    plt.legend(handles = [red_patch, blue_patch])\n",
    "    plt.title('Enron data scatter plot')"
   ]
  },
  {
   "cell_type": "code",
   "execution_count": 25,
   "metadata": {},
   "outputs": [
    {
     "data": {
      "image/png": "[encoded data removed]",
      "text/plain": [
       "<matplotlib.figure.Figure at 0x8d487b8>"
      ]
     },
     "metadata": {},
     "output_type": "display_data"
    }
   ],
   "source": [
    "#See the scatter plot of total_stock_value and total_payments.\n",
    "#I'm going to see the distribution of total_stock_value and total_payments.\n",
    "#I chose them because they have least NaNs.\n",
    "scatter_plot_for_two_features(data_dict, 'total_stock_value', 'total_payments')"
   ]
  },
  {
   "cell_type": "markdown",
   "metadata": {},
   "source": [
    "There are 2 outliers. I need to check who they are."
   ]
  },
  {
   "cell_type": "code",
   "execution_count": 26,
   "metadata": {},
   "outputs": [
    {
     "name": "stdout",
     "output_type": "stream",
     "text": [
      "Name: LAY KENNETH L\n",
      "Total_payments: 103559793\n",
      "\n",
      "Name: TOTAL\n",
      "Total_payments: 309886585\n",
      "\n"
     ]
    }
   ],
   "source": [
    "#I'm going to filter outliers by total_payments.\n",
    "for data_point in data_dict:\n",
    "    total_payment = data_dict[data_point]['total_payments']\n",
    "    if total_payment != 'NaN':\n",
    "        if total_payment >= 10**8:\n",
    "            print 'Name:', data_point\n",
    "            print 'Total_payments:', total_payment\n",
    "            print '' #insert blank line."
   ]
  },
  {
   "cell_type": "markdown",
   "metadata": {},
   "source": [
    "Kenneth Lay's information need to remain because it is freak but meaningful event. But TOTAL needs to be deleted because it isn't a person's data."
   ]
  },
  {
   "cell_type": "markdown",
   "metadata": {},
   "source": [
    "I just searched for outliers related with 'total_stock_value' and 'total_payments' features. I'm going to find if there is any other outlier using name format."
   ]
  },
  {
   "cell_type": "code",
   "execution_count": 5,
   "metadata": {},
   "outputs": [
    {
     "name": "stdout",
     "output_type": "stream",
     "text": [
      "WALLS JR ROBERT H\n",
      "SULLIVAN-SHAKLOVITZ COLLEEN\n",
      "BOWEN JR RAYMOND M\n",
      "OVERDYKE JR JERE C\n",
      "PEREIRA PAULO V. FERRAZ\n",
      "BLAKE JR. NORMAN P\n",
      "THE TRAVEL AGENCY IN THE PARK\n",
      "TOTAL\n",
      "WHITE JR THOMAS E\n",
      "WINOKUR JR. HERBERT S\n",
      "GARLAND C KEVIN\n",
      "YEAGER F SCOTT\n",
      "DERRICK JR. JAMES V\n",
      "DONAHUE JR JEFFREY M\n",
      "GLISAN JR BEN F\n"
     ]
    }
   ],
   "source": [
    "import re\n",
    "for data_point in data_dict:\n",
    "    if re.match(r'^\\w+ \\w+( \\w)?$', data_point) == None:\n",
    "        print data_point"
   ]
  },
  {
   "cell_type": "markdown",
   "metadata": {},
   "source": [
    "There are some names whose format I didn't expect. But I found that there are 2 names which aren't related with person. One is 'TOTAL' and the other is 'THE TRAVEL AGENCY IN THE PARK'. I'm goint to delete the latter one too."
   ]
  },
  {
   "cell_type": "code",
   "execution_count": 9,
   "metadata": {},
   "outputs": [
    {
     "data": {
      "text/plain": [
       "{'bonus': 97343619,\n",
       " 'deferral_payments': 32083396,\n",
       " 'deferred_income': -27992891,\n",
       " 'director_fees': 1398517,\n",
       " 'email_address': 'NaN',\n",
       " 'exercised_stock_options': 311764000,\n",
       " 'expenses': 5235198,\n",
       " 'from_messages': 'NaN',\n",
       " 'from_poi_to_this_person': 'NaN',\n",
       " 'from_this_person_to_poi': 'NaN',\n",
       " 'loan_advances': 83925000,\n",
       " 'long_term_incentive': 48521928,\n",
       " 'other': 42667589,\n",
       " 'poi': False,\n",
       " 'restricted_stock': 130322299,\n",
       " 'restricted_stock_deferred': -7576788,\n",
       " 'salary': 26704229,\n",
       " 'shared_receipt_with_poi': 'NaN',\n",
       " 'to_messages': 'NaN',\n",
       " 'total_payments': 309886585,\n",
       " 'total_stock_value': 434509511}"
      ]
     },
     "execution_count": 9,
     "metadata": {},
     "output_type": "execute_result"
    }
   ],
   "source": [
    "#Delete TOTAL from data_dict using pop function.\n",
    "data_dict.pop('TOTAL', 0)"
   ]
  },
  {
   "cell_type": "code",
   "execution_count": 10,
   "metadata": {},
   "outputs": [
    {
     "data": {
      "text/plain": [
       "{'bonus': 'NaN',\n",
       " 'deferral_payments': 'NaN',\n",
       " 'deferred_income': 'NaN',\n",
       " 'director_fees': 'NaN',\n",
       " 'email_address': 'NaN',\n",
       " 'exercised_stock_options': 'NaN',\n",
       " 'expenses': 'NaN',\n",
       " 'from_messages': 'NaN',\n",
       " 'from_poi_to_this_person': 'NaN',\n",
       " 'from_this_person_to_poi': 'NaN',\n",
       " 'loan_advances': 'NaN',\n",
       " 'long_term_incentive': 'NaN',\n",
       " 'other': 362096,\n",
       " 'poi': False,\n",
       " 'restricted_stock': 'NaN',\n",
       " 'restricted_stock_deferred': 'NaN',\n",
       " 'salary': 'NaN',\n",
       " 'shared_receipt_with_poi': 'NaN',\n",
       " 'to_messages': 'NaN',\n",
       " 'total_payments': 362096,\n",
       " 'total_stock_value': 'NaN'}"
      ]
     },
     "execution_count": 10,
     "metadata": {},
     "output_type": "execute_result"
    }
   ],
   "source": [
    "#Delete THE TRAVEL AGENCY IN THE PARK from data_dict using pop function.\n",
    "data_dict.pop('THE TRAVEL AGENCY IN THE PARK', 0)"
   ]
  },
  {
   "cell_type": "markdown",
   "metadata": {},
   "source": [
    "Now I'm going to use scatter_plot_for_two_features again to see the distribution of POIs and non_POIs."
   ]
  },
  {
   "cell_type": "code",
   "execution_count": 12,
   "metadata": {},
   "outputs": [
    {
     "data": {
      "image/png": "[encoded data removed]",
      "text/plain": [
       "<matplotlib.figure.Figure at 0x91c31d0>"
      ]
     },
     "metadata": {},
     "output_type": "display_data"
    }
   ],
   "source": [
    "#Use scatter_plot_for_two_features again after deleting 'TOTAL'.\n",
    "scatter_plot_for_two_features(data_dict, 'total_stock_value', 'total_payments')"
   ]
  },
  {
   "cell_type": "markdown",
   "metadata": {},
   "source": [
    "It is still a little hard to see it because of Kenneth Lay's data, but it became a little better to see the distribution of POIs."
   ]
  },
  {
   "cell_type": "markdown",
   "metadata": {},
   "source": [
    "## 2. What features did you end up using in your POI identifier, and what selection process did you use to pick them? Did you have to do any scaling? Why or why not? As part of the assignment, you should attempt to engineer your own feature that does not come ready-made in the dataset -- explain what feature you tried to make, and the rationale behind it. (You do not necessarily have to use it in the final analysis, only engineer and test it.) In your feature selection step, if you used an algorithm like a decision tree, please also give the feature importances of the features that you use, and if you used an automated feature selection function like SelectKBest, please report the feature scores and reasons for your choice of parameter values."
   ]
  },
  {
   "cell_type": "markdown",
   "metadata": {},
   "source": [
    "- My own feature that I want to attempt to engineer is 'total_stock_value_without_deferred'. It can be calculated by adding restricted_stock value and exercised_stock_options value. I got to know that Enron executives emphasized a lot about stock price and they did all they could do to increase the price. Therefore I expect that POIs chose to own lots of stocks to earn rapidly growing money and to show that Enron's stocks don't have any problem. But when I see the result of feature importances, its value is low."
   ]
  },
  {
   "cell_type": "code",
   "execution_count": 28,
   "metadata": {
    "collapsed": true
   },
   "outputs": [],
   "source": [
    "#add 'total_stock_value_without_deferred' feature to data_dict.\n",
    "for name, data in data_dict.iteritems():\n",
    "    restricted_stock = data['restricted_stock']\n",
    "    exercised_stock_options = data['exercised_stock_options']\n",
    "    if restricted_stock != 'NaN' and exercised_stock_options != 'NaN':\n",
    "        data['total_stock_value_without_deferred'] = restricted_stock + exercised_stock_options\n",
    "    else:\n",
    "        data['total_stock_value_without_deferred'] = 'NaN'"
   ]
  },
  {
   "cell_type": "markdown",
   "metadata": {},
   "source": [
    "Divide features and labels from data_dict."
   ]
  },
  {
   "cell_type": "code",
   "execution_count": 29,
   "metadata": {
    "collapsed": true
   },
   "outputs": [],
   "source": [
    "#I got feature names from data_dict's inner dictianary's keys.\n",
    "#And I removed and added 'poi' because it is label and it should be first element in the 'features_list'.\n",
    "#I also removed 'email_address' because featureFormat function can't deal with string values.\n",
    "feature_names = data_dict['LAY KENNETH L'].keys()\n",
    "feature_names.remove('poi')\n",
    "feature_names.remove('email_address')\n",
    "\n",
    "features_list = ['poi'] + feature_names\n",
    "\n",
    "data = featureFormat(data_dict, features_list, sort_keys = True)\n",
    "labels, features = targetFeatureSplit(data)"
   ]
  },
  {
   "cell_type": "markdown",
   "metadata": {},
   "source": [
    "I made show_feature_importances function to see the feature importances for each classifier algorithm."
   ]
  },
  {
   "cell_type": "code",
   "execution_count": 10,
   "metadata": {
    "collapsed": true
   },
   "outputs": [],
   "source": [
    "def show_feature_importances(clf, feature_names):\n",
    "    '''\n",
    "    This function is to show feature names and their importances. \n",
    "    This function can be helpful to decide which features to use when fitting a classifier.\n",
    "    \n",
    "    Input: 1) clf - The classifier whose feature importances you want to see.\n",
    "                    But to use the function, classifiers need to have feature_importances_ attribute.\n",
    "                    Therefore, the kind of classifiers are limited to DecisionTreeClassifier, ExtraTreesClassifier, \n",
    "                    RandomForestClassifier, AdaBoostClassifer, etc.\n",
    "                    Before clf is entered to show_feature_importances function, clf needs to be fitted already. \n",
    "           \n",
    "           2) feature_names(type:list) - A list which has he names of features(without label name).\n",
    "           \n",
    "    Process: Make list of importances using feature_importances_ attribute.\n",
    "             Make list of tuples by zipping feature_names and importances.\n",
    "             And sort the tuples by importances in descending order.\n",
    "             Finally print each feature name and its importance.\n",
    "    \n",
    "    Output: None\n",
    "    '''\n",
    "    importances = clf.feature_importances_\n",
    "    feature_importance_tuples = zip(feature_names, importances)\n",
    "    sorted_tuples = sorted(feature_importance_tuples, key = lambda tup : tup[1], reverse = True)\n",
    "    \n",
    "    for tup in sorted_tuples:\n",
    "        print tup[0], tup[1]"
   ]
  },
  {
   "cell_type": "markdown",
   "metadata": {},
   "source": [
    "Feature importances for adaboost classifier.\n",
    "\n",
    "> I'm going to use other and exercised_stock_options features for adaboost classifier. \n",
    "I chose them because their feature importances are more than 10%."
   ]
  },
  {
   "cell_type": "code",
   "execution_count": 11,
   "metadata": {},
   "outputs": [
    {
     "name": "stdout",
     "output_type": "stream",
     "text": [
      "other 0.26\n",
      "exercised_stock_options 0.12\n",
      "to_messages 0.1\n",
      "expenses 0.1\n",
      "restricted_stock 0.06\n",
      "salary 0.06\n",
      "deferred_income 0.04\n",
      "long_term_incentive 0.04\n",
      "shared_receipt_with_poi 0.04\n",
      "total_stock_value 0.04\n",
      "from_this_person_to_poi 0.04\n",
      "total_payments 0.04\n",
      "from_messages 0.02\n",
      "bonus 0.02\n",
      "from_poi_to_this_person 0.02\n",
      "deferral_payments 0.0\n",
      "restricted_stock_deferred 0.0\n",
      "loan_advances 0.0\n",
      "director_fees 0.0\n",
      "total_stock_value_without_deferred 0.0\n"
     ]
    }
   ],
   "source": [
    "from sklearn.ensemble import AdaBoostClassifier\n",
    "\n",
    "adaboostClf = AdaBoostClassifier()\n",
    "adaboostClf.fit(features, labels)\n",
    "\n",
    "show_feature_importances(adaboostClf, feature_names)"
   ]
  },
  {
   "cell_type": "markdown",
   "metadata": {},
   "source": [
    "Feature importances for randomforest classifier.\n",
    "\n",
    "> I'm going to use exercised_stock_options and expenses features for randomforest classifier.\n",
    "I chose them because their feature importances are more than 10%."
   ]
  },
  {
   "cell_type": "code",
   "execution_count": 12,
   "metadata": {},
   "outputs": [
    {
     "name": "stdout",
     "output_type": "stream",
     "text": [
      "exercised_stock_options 0.124029202272\n",
      "expenses 0.106625813825\n",
      "to_messages 0.0970642368118\n",
      "bonus 0.0899250097511\n",
      "other 0.0799550639295\n",
      "deferred_income 0.0670178598964\n",
      "shared_receipt_with_poi 0.0584876806388\n",
      "total_payments 0.04815882078\n",
      "total_stock_value 0.0428564063432\n",
      "salary 0.0419327230382\n",
      "from_this_person_to_poi 0.0413995825701\n",
      "total_stock_value_without_deferred 0.0391205691136\n",
      "long_term_incentive 0.0388667682849\n",
      "from_messages 0.0364821030066\n",
      "restricted_stock 0.036143337295\n",
      "from_poi_to_this_person 0.0268816803175\n",
      "deferral_payments 0.0250531421263\n",
      "restricted_stock_deferred 0.0\n",
      "loan_advances 0.0\n",
      "director_fees 0.0\n"
     ]
    }
   ],
   "source": [
    "from sklearn.ensemble import RandomForestClassifier\n",
    "\n",
    "rfClf = RandomForestClassifier(random_state = 42)\n",
    "rfClf.fit(features, labels)\n",
    "\n",
    "show_feature_importances(rfClf, feature_names)"
   ]
  },
  {
   "cell_type": "markdown",
   "metadata": {},
   "source": [
    "Feature importances for decisiontree classifier.\n",
    "\n",
    "> I'm going to use exercised_stock_options and bonus features for decisiontree classifier. I chose them because their feature importances are more than 10% and 2 most important features."
   ]
  },
  {
   "cell_type": "code",
   "execution_count": 22,
   "metadata": {},
   "outputs": [
    {
     "name": "stdout",
     "output_type": "stream",
     "text": [
      "exercised_stock_options 0.2\n",
      "bonus 0.141197559777\n",
      "other 0.138852968951\n",
      "restricted_stock 0.120480432567\n",
      "total_payments 0.112874779541\n",
      "expenses 0.0649654207133\n",
      "from_messages 0.0577200577201\n",
      "from_poi_to_this_person 0.0555555555556\n",
      "deferred_income 0.0529100529101\n",
      "shared_receipt_with_poi 0.0481000481\n",
      "from_this_person_to_poi 0.00734312416555\n",
      "to_messages 0.0\n",
      "deferral_payments 0.0\n",
      "long_term_incentive 0.0\n",
      "restricted_stock_deferred 0.0\n",
      "loan_advances 0.0\n",
      "director_fees 0.0\n",
      "total_stock_value 0.0\n",
      "salary 0.0\n",
      "total_stock_value_without_deferred 0.0\n"
     ]
    }
   ],
   "source": [
    "from sklearn.tree import DecisionTreeClassifier\n",
    "\n",
    "dtClf = DecisionTreeClassifier()\n",
    "dtClf.fit(features, labels)\n",
    "\n",
    "show_feature_importances(dtClf, feature_names)"
   ]
  },
  {
   "cell_type": "markdown",
   "metadata": {},
   "source": [
    "## 3. What algorithm did you end up using? What other one(s) did you try? How did model performance differ between algorithms? "
   ]
  },
  {
   "cell_type": "markdown",
   "metadata": {},
   "source": [
    "- I tried DecisionTreeClassifier, RandomForestClassifer and AdaBoostClassifier. And I finally decided to use DecisionTreeClassifier."
   ]
  },
  {
   "cell_type": "markdown",
   "metadata": {},
   "source": [
    "I made traintestsplit_gridsearchcv_evaluation function to validate, tune, train and test at a time. With the function and its results I answered question 3 to 6."
   ]
  },
  {
   "cell_type": "code",
   "execution_count": 14,
   "metadata": {
    "collapsed": true
   },
   "outputs": [],
   "source": [
    "def traintestsplit_gridsearchcv_evaluation(clf, parameters, features, labels):\n",
    "    '''\n",
    "    This function is after receiving raw classifier to validate with train_test_split, tune with GridSearchCV and return fitted classifier\n",
    "    and evaluations of it.\n",
    "    \n",
    "    Input: 1) clf - The classifier you want to tune with GridSearchCV.\n",
    "                    Before clf is entered to this function, raw classifier without setting parameters needs to be made already. \n",
    "                    \n",
    "           2) parameter(type:dict) - the dictionary of parameters of the classifier. \n",
    "                                     The key should be parameter name and the value should be list of experimental parameter values.\n",
    "                                     GridSearchCV will decide the optimal parameters using the values in the list.\n",
    "           \n",
    "           2) features(type:list of arrays) - features of the data. Each element of the list is a data point whose type should be an array.\n",
    "                                              Each data point's feature values need to be in the array.            \n",
    "           \n",
    "           3) labels(type:list) -  labels or classes of data points.\n",
    "           \n",
    "    Process: Use train_test_split to split features and labels to train set and test set. I chose to assign 30% of data to test set.\n",
    "             And use for GridSearchCV to tune the parameters of classifier.\n",
    "             Get accuracy, precision and recall using accuracy_score, precision_score, and recall_score functions.\n",
    "             Finally return classifier and accuracy, precision, and recall values.\n",
    "             \n",
    "    Output: 1) cv_clf - tuned classifier, you can get to know the attributes like best_params_, etc.\n",
    "            2, 3, 4) accuracy, precision, recall - accuracy, precision, recall values of the classifier. Each value is between 0 and 1.\n",
    "    '''\n",
    "    from sklearn.model_selection import StratifiedShuffleSplit\n",
    "    from sklearn.model_selection import GridSearchCV\n",
    "    from sklearn.metrics import make_scorer\n",
    "    from sklearn.metrics import accuracy_score\n",
    "    from sklearn.metrics import precision_score\n",
    "    from sklearn.metrics import recall_score\n",
    "    \n",
    "    sss = StratifiedShuffleSplit(n_splits = 10, test_size = 0.3, random_state = 42)\n",
    "    \n",
    "    scoring = {'Accuracy' : make_scorer(accuracy_score), \n",
    "               'precision' : make_scorer(precision_score),\n",
    "               'recall' : make_scorer(recall_score)}\n",
    "    cv_clf = GridSearchCV(clf, parameters, cv = sss, scoring = scoring)\n",
    "    cv_clf.fit(features, labels)\n",
    "    scores = cv_clf.score\n",
    "\n",
    "    accuracy = \n",
    "    precision = \n",
    "    recall = \n",
    "    \n",
    "    return cv_clf, accuracy, precision, recall"
   ]
  },
  {
   "cell_type": "markdown",
   "metadata": {},
   "source": [
    "**I don't need to do feature scaling because DecisionTree, AdaBoost and RandomForest Classifiers aren't affected by it.**"
   ]
  },
  {
   "cell_type": "markdown",
   "metadata": {},
   "source": [
    "The result of AdaBoost classifier.\n",
    "\n",
    "> Accuracy was highest of all three classifiers. But both of precision and recall values are lower than or equal to 0.5."
   ]
  },
  {
   "cell_type": "code",
   "execution_count": 15,
   "metadata": {},
   "outputs": [
    {
     "name": "stdout",
     "output_type": "stream",
     "text": [
      "Average accuracy of AdaBoostClassifier: 0.868421052632\n",
      "Average precision of AdaBoostClassifier: 0.4\n",
      "Average recall of AdaBoostClassifier: 0.5\n"
     ]
    }
   ],
   "source": [
    "features_list_for_adaboost = ['poi', 'other', 'exercised_stock_options']\n",
    "\n",
    "data_for_adaboost = featureFormat(data_dict, features_list_for_adaboost, sort_keys = True)\n",
    "labels_for_adaboost, features_for_adaboost = targetFeatureSplit(data_for_adaboost)\n",
    "\n",
    "adaboostClf = AdaBoostClassifier()\n",
    "adaboost_parameters = {'n_estimators' : [20, 35, 50, 65, 80]}\n",
    "adaboost_accuracies = []\n",
    "adaboost_precisions = []\n",
    "adaboost_recalls = []\n",
    "\n",
    "for i in range(10):\n",
    "    cv_adaboost = traintestsplit_gridsearchcv_evaluation(adaboostClf, adaboost_parameters, features_for_adaboost, labels_for_adaboost)\n",
    "    adaboost_accuracies.append(cv_adaboost[1])\n",
    "    adaboost_precisions.append(cv_adaboost[2])\n",
    "    adaboost_recalls.append(cv_adaboost[3])\n",
    "\n",
    "print 'Average accuracy of AdaBoostClassifier:', np.mean(adaboost_accuracies)\n",
    "print 'Average precision of AdaBoostClassifier:', np.mean(adaboost_precisions)\n",
    "print 'Average recall of AdaBoostClassifier:', np.mean(adaboost_recalls)"
   ]
  },
  {
   "cell_type": "markdown",
   "metadata": {},
   "source": [
    "The result of RandomForest classifier.\n",
    "> All values of accuracy, precision and recall are lower than AdaBoost classifier's result."
   ]
  },
  {
   "cell_type": "code",
   "execution_count": 16,
   "metadata": {
    "scrolled": false
   },
   "outputs": [
    {
     "name": "stdout",
     "output_type": "stream",
     "text": [
      "Average accuracy of RandomForestClassifier: 0.817948717949\n",
      "Average precision of RandomForestClassifier: 0.266666666667\n",
      "Average recall of RandomForestClassifier: 0.116666666667\n"
     ]
    }
   ],
   "source": [
    "features_list_for_rf = ['poi', 'exercised_stock_options', 'expenses']\n",
    "\n",
    "data_for_rf = featureFormat(data_dict, features_list_for_rf, sort_keys = True)\n",
    "labels_for_rf, features_for_rf = targetFeatureSplit(data_for_rf)\n",
    "\n",
    "rfClf = RandomForestClassifier()\n",
    "rf_parameters = {'n_estimators' : [20, 35, 50, 65, 80], 'min_samples_split' : [2, 5, 10, 15]}\n",
    "rf_accuracies = []\n",
    "rf_precisions = []\n",
    "rf_recalls = []\n",
    "\n",
    "for i in range(10):\n",
    "    cv_rf = traintestsplit_gridsearchcv_evaluation(rfClf, rf_parameters, features_for_rf, labels_for_rf)\n",
    "    rf_accuracies.append(cv_rf[1])\n",
    "    rf_precisions.append(cv_rf[2])\n",
    "    rf_recalls.append(cv_rf[3])\n",
    "\n",
    "print 'Average accuracy of RandomForestClassifier:', np.mean(rf_accuracies)\n",
    "print 'Average precision of RandomForestClassifier:', np.mean(rf_precisions)\n",
    "print 'Average recall of RandomForestClassifier:', np.mean(rf_recalls)"
   ]
  },
  {
   "cell_type": "markdown",
   "metadata": {},
   "source": [
    "The result of DecisionTree classifier.\n",
    "> Accuracy was lowest of all three classifiers. And precision is also low. But recall is really high compared to the others."
   ]
  },
  {
   "cell_type": "code",
   "execution_count": 17,
   "metadata": {
    "scrolled": false
   },
   "outputs": [
    {
     "name": "stdout",
     "output_type": "stream",
     "text": [
      "Average accuracy of DecisionTreeClassifier: 0.743243243243\n",
      "Average precision of DecisionTreeClassifier: 0.274405594406\n",
      "Average recall of DecisionTreeClassifier: 0.825\n",
      "Best parameters: [{'min_samples_split': 5, 'criterion': 'gini'}, {'min_samples_split': 5, 'criterion': 'entropy'}, {'min_samples_split': 2, 'criterion': 'gini'}, {'min_samples_split': 2, 'criterion': 'gini'}, {'min_samples_split': 2, 'criterion': 'gini'}, {'min_samples_split': 2, 'criterion': 'gini'}, {'min_samples_split': 5, 'criterion': 'entropy'}, {'min_samples_split': 5, 'criterion': 'entropy'}, {'min_samples_split': 5, 'criterion': 'gini'}, {'min_samples_split': 5, 'criterion': 'gini'}]\n"
     ]
    }
   ],
   "source": [
    "features_list_for_dt = ['poi', 'exercised_stock_options', 'bonus']\n",
    "\n",
    "data_for_dt = featureFormat(data_dict, features_list_for_dt, sort_keys = True)\n",
    "labels_for_dt, features_for_dt = targetFeatureSplit(data_for_dt)\n",
    "\n",
    "dtClf = DecisionTreeClassifier()\n",
    "dt_parameters = {'min_samples_split' : [2, 5, 10, 15], 'criterion' : ['gini', 'entropy']}\n",
    "dt_best_params = []\n",
    "dt_accuracies = []\n",
    "dt_precisions = []\n",
    "dt_recalls = []\n",
    "\n",
    "for i in range(10):\n",
    "    cv_dt = traintestsplit_gridsearchcv_evaluation(dtClf, dt_parameters, features_for_dt, labels_for_dt)\n",
    "    dt_best_params.append(cv_dt[0].best_params_)\n",
    "    dt_accuracies.append(cv_dt[1])\n",
    "    dt_precisions.append(cv_dt[2])\n",
    "    dt_recalls.append(cv_dt[3])\n",
    "\n",
    "print 'Average accuracy of DecisionTreeClassifier:', np.mean(dt_accuracies)\n",
    "print 'Average precision of DecisionTreeClassifier:', np.mean(dt_precisions)\n",
    "print 'Average recall of DecisionTreeClassifier:', np.mean(dt_recalls)\n",
    "print 'Best parameters:', dt_best_params"
   ]
  },
  {
   "cell_type": "markdown",
   "metadata": {},
   "source": [
    "## 4. What does it mean to tune the parameters of an algorithm, and what can happen if you don’t do this well?  How did you tune the parameters of your particular algorithm? What parameters did you tune? (Some algorithms do not have parameters that you need to tune -- if this is the case for the one you picked, identify and briefly explain how you would have done it for the model that was not your final choice or a different model that does utilize parameter tuning, e.g. a decision tree classifier). "
   ]
  },
  {
   "cell_type": "markdown",
   "metadata": {},
   "source": [
    "- Tuning the parameters of an algorithm makes optimal classifier of the algorithm. If I don't tune it well, the result of the classifier can be overfitting or underfitting and the evaluation metrics show lower performances of it.\n",
    "\n",
    "- I tuned 'min_samples_split' and 'criterion' paramters using GridSearchCV."
   ]
  },
  {
   "cell_type": "markdown",
   "metadata": {},
   "source": [
    "## 5. What is validation, and what’s a classic mistake you can make if you do it wrong? How did you validate your analysis?"
   ]
  },
  {
   "cell_type": "markdown",
   "metadata": {},
   "source": [
    "- Validation is the process that a trained model is evaluated with a testing data set to test the generalization ability of the trained model. It aims to find an optimal model with the best performance. And data analysts should be careful of the situation that evaluation result is good for training set, and bad for testing set in validation process because there's a high possibility that the classifier is overfitted. In the case, it is likely that the results of application of the classifier to the independent data sets aren't good.\n",
    "\n",
    "- I validated using StratifiedShuffleSplit function. I assigned 30% of data to test set and 70% of data to train set. And I cross-validated the classifier by iterating reshuffling and splitting 10 times."
   ]
  },
  {
   "cell_type": "markdown",
   "metadata": {},
   "source": [
    "## 6. Give at least 2 evaluation metrics and your average performance for each of them.  Explain an interpretation of your metrics that says something human-understandable about your algorithm’s performance."
   ]
  },
  {
   "cell_type": "markdown",
   "metadata": {},
   "source": [
    "- I used precision, and recall as evaluation metrics. And when I ran DecisionTreeClassifier 10 times, the average performance for each of them are 0.27, 0.83.\n",
    "- I got accuracy too, but it doesn't mean much in this case because labels had skewed classes.\n",
    "- Precision is 'True Positive / (True Positive + False Positive)'. I got precision as 0.27, it means that when the classifier predicted that a data point is POI, then only 27% of them are correct.\n",
    "- Recall is 'True Positive / (True Positive + False Negative)'. I got recall as 0.83, it means that from all POIs in the data points, the classifier detected 83% of them.\n",
    "- With the classifier, if it detects POIs, most of real POIs are detected. But it is unlikely that detected data points are real POIs because lots of non-POIs are detected, too."
   ]
  },
  {
   "cell_type": "markdown",
   "metadata": {
    "collapsed": true
   },
   "source": [
    "### References\n",
    "- basic resource : https://github.com/udacity/ud120-projects\n",
    "- Udacity Intro to Machine Learning course : https://www.udacity.com/course/intro-to-machine-learning--ud120\n",
    "- enron scandal wikipedia page : https://en.wikipedia.org/wiki/Enron_scandal\n",
    "- machine learning algorithms and evaluation functions : http://scikit-learn.org/stable/index.html\n",
    "- validation : https://link.springer.com/referenceworkentry/10.1007%2F978-1-4419-9863-7_233\n",
    "\n",
    "I hereby confirm that this submission is my work. I have cited above the origins of any parts of the submission that were taken from Websites, books, forums, blog posts, github repositories, etc."
   ]
  }
 ],
 "metadata": {
  "kernelspec": {
   "display_name": "Python [conda env:py27]",
   "language": "python",
   "name": "conda-env-py27-py"
  },
  "language_info": {
   "codemirror_mode": {
    "name": "ipython",
    "version": 2
   },
   "file_extension": ".py",
   "mimetype": "text/x-python",
   "name": "python",
   "nbconvert_exporter": "python",
   "pygments_lexer": "ipython2",
   "version": "2.7.13"
  }
 },
 "nbformat": 4,
 "nbformat_minor": 2
}
