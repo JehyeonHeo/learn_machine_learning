{
 "cells": [
  {
   "cell_type": "markdown",
   "metadata": {},
   "source": [
    "# Documentation of Intro to Machine Learning Project."
   ]
  },
  {
   "cell_type": "code",
   "execution_count": 1,
   "metadata": {
    "collapsed": true
   },
   "outputs": [],
   "source": [
    "import sys\n",
    "import pickle\n",
    "sys.path.append(\"../tools/\")\n",
    "\n",
    "from feature_format import featureFormat, targetFeatureSplit"
   ]
  },
  {
   "cell_type": "markdown",
   "metadata": {},
   "source": [
    "## Basic Data Exploration"
   ]
  },
  {
   "cell_type": "code",
   "execution_count": 2,
   "metadata": {},
   "outputs": [
    {
     "name": "stdout",
     "output_type": "stream",
     "text": [
      "Total number of data points: 146\n",
      "Total number of features: 20\n",
      "\n",
      "The allocation across classes(POI/non-POI):\n",
      "False    128\n",
      "True      18\n",
      "Name: poi, dtype: int64\n",
      "The proportion of POI: 12.33 %\n",
      "\n",
      "The number of NaNs in each feature:\n",
      "loan_advances                142\n",
      "director_fees                129\n",
      "restricted_stock_deferred    128\n",
      "deferral_payments            107\n",
      "deferred_income               97\n",
      "long_term_incentive           80\n",
      "bonus                         64\n",
      "from_this_person_to_poi       60\n",
      "from_poi_to_this_person       60\n",
      "from_messages                 60\n",
      "shared_receipt_with_poi       60\n",
      "to_messages                   60\n",
      "other                         53\n",
      "expenses                      51\n",
      "salary                        51\n",
      "exercised_stock_options       44\n",
      "restricted_stock              36\n",
      "email_address                 35\n",
      "total_payments                21\n",
      "total_stock_value             20\n",
      "poi                            0\n",
      "dtype: int64\n"
     ]
    }
   ],
   "source": [
    "#Show the most important characteristics of the dataset\n",
    "### Load the dictionary containing the dataset\n",
    "with open(\"final_project_dataset.pkl\", \"r\") as data_file:\n",
    "    data_dict = pickle.load(data_file)\n",
    "    \n",
    "import pandas as pd\n",
    "df = pd.DataFrame(data_dict).T\n",
    "\n",
    "#get total number of data points, total number of features\n",
    "num_datapoints = df.shape[0]\n",
    "num_features = df.shape[1] - 1 #I subtracted 1 because POI ins't feature, it is label(class).\n",
    "print \"Total number of data points:\", num_datapoints\n",
    "print \"Total number of features:\", num_features\n",
    "print \"\" #insert blank line\n",
    "\n",
    "#show the allocation across classes(POI/non-POI)\n",
    "poi_allocation = df.poi.value_counts()\n",
    "print \"The allocation across classes(POI/non-POI):\"\n",
    "print poi_allocation\n",
    "print \"The proportion of POI:\", round(poi_allocation.loc[True] / float(df.poi.count()) * 100, 2), \"%\"\n",
    "print \"\" #insert blank line\n",
    "\n",
    "#show how many NaNs in each feature\n",
    "num_NaN_in_each_feature = (df == 'NaN').sum()\n",
    "print \"The number of NaNs in each feature:\"\n",
    "print num_NaN_in_each_feature.sort_values(ascending = False)"
   ]
  },
  {
   "cell_type": "markdown",
   "metadata": {},
   "source": [
    "- The data has skewed classses. Therefore it would be better to use precision and recall as evaluation metrics rather than accuracy. \n",
    "\n",
    "- When considering the number of NaN values of each feature, it would be better to use features like total_stock_value and total_payments rather than loan_advances, director_fees and restricted_stock_deferred."
   ]
  },
  {
   "cell_type": "markdown",
   "metadata": {},
   "source": [
    "## 1. Summarize for us the goal of this project and how machine learning is useful in trying to accomplish it. As part of your answer, give some background on the dataset and how it can be used to answer the project question. Were there any outliers in the data when you got it, and how did you handle those?"
   ]
  },
  {
   "cell_type": "markdown",
   "metadata": {},
   "source": [
    "- The goal of this project is to build a person of interest identifier based on financial and email data made public as a result of the Enron scandal. And machine learning can be useful in this case because it can detect hidden patterns in the data using its features better than humans."
   ]
  },
  {
   "cell_type": "markdown",
   "metadata": {},
   "source": [
    "- In 2000, Enron was one of the largest companies in the United States. By 2002, it had collapsed into bankruptcy due to widespread corporate fraud. The key people of the scancal were Jeff Skilling, Kenneth Lay and Andrew Fastow. Jeff Skilling was the chairman of the Enron board of directors. Kenneth Lay was the CEO of Enron during most of the time that fraud was being perpetrated. Andrew Fastow was CFO (chief financial officer) of Enron during most of the time that fraud was going on. They were sentenced to imprisonment. We can know whether the identifier can detect POIs well by seeing that they were detected."
   ]
  },
  {
   "cell_type": "code",
   "execution_count": 3,
   "metadata": {
    "collapsed": true
   },
   "outputs": [],
   "source": [
    "#See if there is any outlier.\n",
    "#I'm going to see the distribution of total_stock_value and total_payments.\n",
    "#I chose them because they have least NaNs.\n",
    "def scatter_plot_for_two_features(data_dict, feature1, feature2):\n",
    "    '''\n",
    "    This function is to draw scatter plot of 2 features and show the distribution of POIs and Non-POIs.\n",
    "    \n",
    "    Inputs: 1) data_dict(type:dict) - data typed dictionary.  \n",
    "            2, 3) feature1, feature2(type:str) - features of the data whose distribution or relation between them you want to see \n",
    "    \n",
    "    Output: None\n",
    "    \n",
    "    In the process of function draw scatter plot of 2 features colored by each label.\n",
    "    Label is automatically designated as 'poi'.\n",
    "    '''\n",
    "    #first element in features_list should be label. In this function, it is 'poi'.\n",
    "    features_list = ['poi', feature1, feature2]\n",
    "\n",
    "    data = featureFormat(data_dict, features_list, sort_keys = True)\n",
    "    labels, features = targetFeatureSplit(data)\n",
    "\n",
    "    %matplotlib inline\n",
    "    import matplotlib.pyplot as plt\n",
    "    import matplotlib.patches as mpatches\n",
    "\n",
    "    for i in range(len(labels)):\n",
    "        point_feature1 = features[i][0]\n",
    "        point_feature2 = features[i][1]\n",
    "\n",
    "        if labels[i] == True:\n",
    "            c = 'red'\n",
    "        else:\n",
    "            c = 'blue'\n",
    "        plt.scatter(point_feature1, point_feature2, c = c, alpha = 0.7)\n",
    "        \n",
    "    plt.xlabel(feature1)\n",
    "    plt.ylabel(feature2)\n",
    "    \n",
    "    red_patch = mpatches.Patch(color = 'red', label = 'POI')\n",
    "    blue_patch = mpatches.Patch(color = 'blue', label = 'Non-POI')\n",
    "    plt.legend(handles = [red_patch, blue_patch])\n",
    "    plt.title('Enron data scatter plot')"
   ]
  },
  {
   "cell_type": "code",
   "execution_count": 4,
   "metadata": {},
   "outputs": [
    {
     "data": {
      "image/png": "[encoded data removed]",
      "text/plain": [
       "<matplotlib.figure.Figure at 0x8dc39e8>"
      ]
     },
     "metadata": {},
     "output_type": "display_data"
    }
   ],
   "source": [
    "#See the scatter plot of total_stock_value and total_payments.\n",
    "scatter_plot_for_two_features(data_dict, 'total_stock_value', 'total_payments')"
   ]
  },
  {
   "cell_type": "markdown",
   "metadata": {},
   "source": [
    "There are 2 outliers. I need to check who they are."
   ]
  },
  {
   "cell_type": "code",
   "execution_count": 5,
   "metadata": {},
   "outputs": [
    {
     "name": "stdout",
     "output_type": "stream",
     "text": [
      "Name: LAY KENNETH L\n",
      "Total_payments: 103559793\n",
      "\n",
      "Name: TOTAL\n",
      "Total_payments: 309886585\n",
      "\n"
     ]
    }
   ],
   "source": [
    "#I'm going to filter outliers by total_payments.\n",
    "for data_point in data_dict:\n",
    "    total_payment = data_dict[data_point]['total_payments']\n",
    "    if total_payment != 'NaN':\n",
    "        if total_payment >= 10**8:\n",
    "            print 'Name:', data_point\n",
    "            print 'Total_payments:', total_payment\n",
    "            print '' #insert blank line."
   ]
  },
  {
   "cell_type": "markdown",
   "metadata": {},
   "source": [
    "Kenneth Lay's information need to remain because it is freak but meaningful event. \n",
    "But TOTAL needs to be deleted because it isn't a person's data."
   ]
  },
  {
   "cell_type": "code",
   "execution_count": 6,
   "metadata": {},
   "outputs": [
    {
     "data": {
      "text/plain": [
       "{'bonus': 97343619,\n",
       " 'deferral_payments': 32083396,\n",
       " 'deferred_income': -27992891,\n",
       " 'director_fees': 1398517,\n",
       " 'email_address': 'NaN',\n",
       " 'exercised_stock_options': 311764000,\n",
       " 'expenses': 5235198,\n",
       " 'from_messages': 'NaN',\n",
       " 'from_poi_to_this_person': 'NaN',\n",
       " 'from_this_person_to_poi': 'NaN',\n",
       " 'loan_advances': 83925000,\n",
       " 'long_term_incentive': 48521928,\n",
       " 'other': 42667589,\n",
       " 'poi': False,\n",
       " 'restricted_stock': 130322299,\n",
       " 'restricted_stock_deferred': -7576788,\n",
       " 'salary': 26704229,\n",
       " 'shared_receipt_with_poi': 'NaN',\n",
       " 'to_messages': 'NaN',\n",
       " 'total_payments': 309886585,\n",
       " 'total_stock_value': 434509511}"
      ]
     },
     "execution_count": 6,
     "metadata": {},
     "output_type": "execute_result"
    }
   ],
   "source": [
    "#Delete TOTAL from data_dict using pop function.\n",
    "data_dict.pop('TOTAL', 0)"
   ]
  },
  {
   "cell_type": "markdown",
   "metadata": {},
   "source": [
    "Now I'm going to use scatter_plot_for_two_features again to see the distribution of POIs and non_POIs."
   ]
  },
  {
   "cell_type": "code",
   "execution_count": 7,
   "metadata": {},
   "outputs": [
    {
     "data": {
      "image/png": "[encoded data removed]",
      "text/plain": [
       "<matplotlib.figure.Figure at 0x9505710>"
      ]
     },
     "metadata": {},
     "output_type": "display_data"
    }
   ],
   "source": [
    "#Use scatter_plot_for_two_features again after deleting 'TOTAL'.\n",
    "scatter_plot_for_two_features(data_dict, 'total_stock_value', 'total_payments')"
   ]
  },
  {
   "cell_type": "markdown",
   "metadata": {},
   "source": [
    "It became a little better to see the distribution of POIs, but it is still a little hard to see it because of Kenneth Lay's data."
   ]
  },
  {
   "cell_type": "markdown",
   "metadata": {},
   "source": [
    "## 2. What features did you end up using in your POI identifier, and what selection process did you use to pick them? Did you have to do any scaling? Why or why not? As part of the assignment, you should attempt to engineer your own feature that does not come ready-made in the dataset -- explain what feature you tried to make, and the rationale behind it. (You do not necessarily have to use it in the final analysis, only engineer and test it.) In your feature selection step, if you used an algorithm like a decision tree, please also give the feature importances of the features that you use, and if you used an automated feature selection function like SelectKBest, please report the feature scores and reasons for your choice of parameter values."
   ]
  },
  {
   "cell_type": "markdown",
   "metadata": {},
   "source": [
    "- My own feature that I want to attempt to engineer is 'total_stock_value_without_deferred'. It can be calculated by adding restricted_stock value and exercised_stock_options value. I got to know that Enron executives emphasized a lot about stock price and they did all they could do to increase the price. Therefore I expect that POIs chose to own lots of stocks to earn rapidly growing money and to show that Enron's stocks don't have any problem."
   ]
  },
  {
   "cell_type": "code",
   "execution_count": 8,
   "metadata": {
    "collapsed": true
   },
   "outputs": [],
   "source": [
    "#add 'total_stock_value_without_deferred' feature to data_dict.\n",
    "for name, data in data_dict.iteritems():\n",
    "    restricted_stock = data['restricted_stock']\n",
    "    exercised_stock_options = data['exercised_stock_options']\n",
    "    if restricted_stock != 'NaN' and exercised_stock_options != 'NaN':\n",
    "        data['total_stock_value_without_deferred'] = restricted_stock + exercised_stock_options\n",
    "    else:\n",
    "        data['total_stock_value_without_deferred'] = 'NaN'"
   ]
  },
  {
   "cell_type": "code",
   "execution_count": 9,
   "metadata": {
    "collapsed": true
   },
   "outputs": [],
   "source": [
    "feature_names = data_dict['LAY KENNETH L'].keys()\n",
    "feature_names.remove('poi')\n",
    "feature_names.remove('email_address')\n",
    "\n",
    "features_list = ['poi'] + feature_names\n",
    "\n",
    "data = featureFormat(data_dict, features_list, sort_keys = True)\n",
    "labels, features = targetFeatureSplit(data)"
   ]
  },
  {
   "cell_type": "markdown",
   "metadata": {},
   "source": [
    "Feature selection using adaboost classifier."
   ]
  },
  {
   "cell_type": "code",
   "execution_count": 10,
   "metadata": {
    "collapsed": true
   },
   "outputs": [],
   "source": [
    "def make_and_fit_adaboostClassifier(features=None, labels=None, n_estimators=50):\n",
    "    '''\n",
    "    This function is to make and fit AdaBoostClassifier.\n",
    "    \n",
    "    Inputs: 1) features(type:list of arrays) - features of the data. Each element of the list is a data point whose type should be an array.\n",
    "                                               Each data point's feature values need to be in the array.            \n",
    "            2) labels(type:list) -  labels or classes of data points.\n",
    "            3) n_estimators(type:int) - The maximum number of estimators at which boosting is terminated. \n",
    "                                        In case of perfect fit, the learning procedure is stopped early.\n",
    "                                        Default is 50 according to the AdaBoostClassfier's default n_estimators.\n",
    "            \n",
    "    Process: Make AdaBoostClassifier using n_estimators and 'SAMME' algorithm. \n",
    "             And fit the classifier using features and labels.\n",
    "    \n",
    "    Output: made and fitted classifier\n",
    "    '''\n",
    "    from sklearn.ensemble import AdaBoostClassifier\n",
    "    clf = AdaBoostClassifier(n_estimators = n_estimators, algorithm = 'SAMME')\n",
    "    clf.fit(features, labels)\n",
    "    return clf"
   ]
  },
  {
   "cell_type": "code",
   "execution_count": 11,
   "metadata": {
    "collapsed": true
   },
   "outputs": [],
   "source": [
    "def show_feature_importances(clf, feature_names):\n",
    "    '''\n",
    "    This function is to show feature names and their importances. \n",
    "    This function can be helpful to decide which features to use when fitting a classifier.\n",
    "    \n",
    "    Input: 1) clf - The classifier whose feature importances you want to see.\n",
    "                    But to use the function, classifiers need to have feature_importances_ attribute.\n",
    "                    Therefore, the kind of classifiers are limited to DecisionTreeClassifier, ExtraTreesClassifier, \n",
    "                    RandomForestClassifier, AdaBoostClassifer, etc.\n",
    "                    Before clf is entered to show_feature_importances function, clf needs to be fitted already. \n",
    "           \n",
    "           2) feature_names(type:list) - A list which has he names of features(without label name).\n",
    "           \n",
    "    Process: Make list of importances using feature_importances_ attribute.\n",
    "             Make list of tuples by zipping feature_names and importances.\n",
    "             And sort the tuples by importances in descending order.\n",
    "             Finally print each feature name and its importance.\n",
    "    \n",
    "    Output: None\n",
    "    '''\n",
    "    importances = clf.feature_importances_\n",
    "    feature_importance_tuples = zip(feature_names, importances)\n",
    "    sorted_tuples = sorted(feature_importance_tuples, key = lambda tup : tup[1], reverse = True)\n",
    "    \n",
    "    for tup in sorted_tuples:\n",
    "        print tup[0], tup[1]"
   ]
  },
  {
   "cell_type": "code",
   "execution_count": 12,
   "metadata": {},
   "outputs": [
    {
     "name": "stdout",
     "output_type": "stream",
     "text": [
      "expenses 0.301032695769\n",
      "other 0.126363932497\n",
      "from_this_person_to_poi 0.114364194394\n",
      "exercised_stock_options 0.0875400554714\n",
      "total_stock_value 0.0652900119294\n",
      "salary 0.0588684248335\n",
      "bonus 0.0512192480961\n",
      "restricted_stock 0.0442210435467\n",
      "total_payments 0.0437412823727\n",
      "to_messages 0.0321656080877\n",
      "deferred_income 0.0253269741672\n",
      "total_stock_value_without_deferred 0.0215873361921\n",
      "from_messages 0.0184972359899\n",
      "restricted_stock_deferred 0.00978195665304\n",
      "deferral_payments 0.0\n",
      "long_term_incentive 0.0\n",
      "shared_receipt_with_poi 0.0\n",
      "loan_advances 0.0\n",
      "director_fees 0.0\n",
      "from_poi_to_this_person 0.0\n"
     ]
    }
   ],
   "source": [
    "adaboostClf = make_and_fit_adaboostClassifier(features, labels)\n",
    "show_feature_importances(adaboostClf, feature_names)"
   ]
  },
  {
   "cell_type": "markdown",
   "metadata": {},
   "source": [
    "- I'm going to use espenses, other, and from_this_person_to_poi features. I chose them their feature importances are more than 10%."
   ]
  },
  {
   "cell_type": "code",
   "execution_count": 17,
   "metadata": {},
   "outputs": [],
   "source": [
    "def traintestsplit_gridsearchcv_evaluation(clf, parameters, features, labels):\n",
    "    '''\n",
    "    This function is after receiving raw classifier to validate with train_test_split, tune with GridSearchCV and print evaluations of \n",
    "    the classifier.\n",
    "    \n",
    "    Input: 1) clf - The classifier you want to tune with GridSearchCV.\n",
    "                    Before clf is entered to this function, raw classifier without setting parameters needs to be made already. \n",
    "                    \n",
    "           2) parameter(type:dict) - the dictionary of parameters of the classifier. \n",
    "                                     The key should be parameter name and the value should be list of experimental parameter values.\n",
    "                                     GridSearchCV will decide the optimal parameters using the values in the list.\n",
    "           \n",
    "           2) features(type:list of arrays) - features of the data. Each element of the list is a data point whose type should be an array.\n",
    "                                              Each data point's feature values need to be in the array.            \n",
    "           \n",
    "           3) labels(type:list) -  labels or classes of data points.\n",
    "           \n",
    "    Process: Use train_test_split to split features and labels to train set and test set. I chose to assign 30% of data to test set.\n",
    "             And use for GridSearchCV to tune the parameters of classifier.\n",
    "             Finally print the accuracy, precision, recall and return classifier.\n",
    "             \n",
    "    Output: cv_clf - tuned classifier, you can get to know the attributes like best_params_, etc.\n",
    "    '''\n",
    "    from sklearn.model_selection import train_test_split\n",
    "    from sklearn.model_selection import GridSearchCV\n",
    "    from sklearn.metrics import accuracy_score\n",
    "    from sklearn.metrics import precision_score\n",
    "    from sklearn.metrics import recall_score\n",
    "    import numpy as np\n",
    "    \n",
    "    feature_train, feature_test, label_train, label_test = train_test_split(features, labels, test_size = 0.3)\n",
    "    \n",
    "    cv_clf = GridSearchCV(clf, parameters)\n",
    "    cv_clf.fit(feature_train, label_train)\n",
    "    pred = cv_clf.predict(feature_test)\n",
    "\n",
    "    accuracy = accuracy_score(label_test, pred)\n",
    "    precision = precision_score(label_test, pred)\n",
    "    recall = recall_score(label_test, pred)\n",
    "\n",
    "    print 'Average accuracy of test set:', accuracy\n",
    "    print 'Average precision of test set:', precision\n",
    "    print 'Average recall of test set:', recall\n",
    "    print '\\n' #insert blank lines\n",
    "    \n",
    "    return cv_clf"
   ]
  },
  {
   "cell_type": "code",
   "execution_count": 13,
   "metadata": {
    "collapsed": true
   },
   "outputs": [],
   "source": [
    "features_list_for_adaboost = ['poi', 'expenses', 'other', 'from_this_person_to_poi']\n",
    "\n",
    "data_for_adaboost = featureFormat(data_dict, features_list, sort_keys = True)\n",
    "labels_for_adaboost, features_for_adaboost = targetFeatureSplit(data_for_adaboost)\n",
    "\n",
    "from sklearn.ensemble import AdaBoostClassifier\n",
    "adaboostClf = AdaBoostClassifier()\n",
    "traintestsplit_gridsearchcv_evaluation(adaboostClf, , features, labels)"
   ]
  },
  {
   "cell_type": "code",
   "execution_count": 15,
   "metadata": {
    "collapsed": true
   },
   "outputs": [],
   "source": [
    "#feature selection using randomforest classifier.    \n",
    "def make_and_fit_randomforestClassifier(features, labels, n_estimators=10, min_samples_split=2):\n",
    "    '''\n",
    "    This function is to make and fit RandomForestClassifier.\n",
    "    \n",
    "    Inputs: 1) features(type:list of arrays) - features of the data. Each element of the list is a data point whose type should be an array.\n",
    "                                               Each data point's feature values need to be in the array.            \n",
    "            2) labels(type:list) -  labels or classes of data points.\n",
    "            3) n_estimators(type:int) - The number of trees in the forest.\n",
    "                                        Default is 10 according to the RandomForestClassfier's default n_estimators.\n",
    "            4) min_samples_split(type:int) - The minimum number of samples required to split an internal node.\n",
    "\n",
    "    Process: Make AdaBoostClassifier using n_estimators and min_samples_split. \n",
    "             And fit the classifier using features and labels.\n",
    "    \n",
    "    Output: made and fitted classifier\n",
    "    '''\n",
    "    from sklearn.ensemble import RandomForestClassifier\n",
    "    clf = RandomForestClassifier(n_estimators = n_estimators, min_samples_split = min_samples_split)\n",
    "    clf.fit(features, labels)\n",
    "    return clf"
   ]
  },
  {
   "cell_type": "code",
   "execution_count": 16,
   "metadata": {},
   "outputs": [
    {
     "name": "stdout",
     "output_type": "stream",
     "text": [
      "exercised_stock_options 0.136887489313\n",
      "expenses 0.105209989959\n",
      "other 0.102119752721\n",
      "bonus 0.0888827639861\n",
      "long_term_incentive 0.0856368593772\n",
      "from_poi_to_this_person 0.0740758678405\n",
      "salary 0.0662017426249\n",
      "total_stock_value 0.0593452989441\n",
      "from_messages 0.0512862297788\n",
      "restricted_stock 0.0481390275406\n",
      "deferred_income 0.0383875258862\n",
      "from_this_person_to_poi 0.0382220889751\n",
      "total_stock_value_without_deferred 0.0332969791112\n",
      "shared_receipt_with_poi 0.0300000199367\n",
      "to_messages 0.0216379076001\n",
      "total_payments 0.0206704564055\n",
      "deferral_payments 0.0\n",
      "restricted_stock_deferred 0.0\n",
      "loan_advances 0.0\n",
      "director_fees 0.0\n"
     ]
    }
   ],
   "source": [
    "rfClf = make_and_fit_randomforestClassifier(features, labels)\n",
    "show_feature_importances(rfClf, feature_names)"
   ]
  },
  {
   "cell_type": "markdown",
   "metadata": {},
   "source": [
    "- I'm going to use espenses and from_this_person_to_poi features. I chose them their feature importances are more than 10%."
   ]
  },
  {
   "cell_type": "markdown",
   "metadata": {},
   "source": [
    "## 3. What algorithm did you end up using? What other one(s) did you try? How did model performance differ between algorithms? "
   ]
  },
  {
   "cell_type": "markdown",
   "metadata": {},
   "source": [
    "## 4. What does it mean to tune the parameters of an algorithm, and what can happen if you don’t do this well?  How did you tune the parameters of your particular algorithm? What parameters did you tune? (Some algorithms do not have parameters that you need to tune -- if this is the case for the one you picked, identify and briefly explain how you would have done it for the model that was not your final choice or a different model that does utilize parameter tuning, e.g. a decision tree classifier). "
   ]
  },
  {
   "cell_type": "markdown",
   "metadata": {},
   "source": [
    "- Tuning the parameters of an algorithm makes optimal classifier of the algorithm. If I don't tune it well, the result of the classifier can be overfitting or underfitting and the evaluation metrics show lower performances of it."
   ]
  },
  {
   "cell_type": "markdown",
   "metadata": {},
   "source": [
    "## 5. What is validation, and what’s a classic mistake you can make if you do it wrong? How did you validate your analysis?"
   ]
  },
  {
   "cell_type": "markdown",
   "metadata": {},
   "source": [
    "- Validation is to divide the data by training and testing part to estimate of performance. And it is important to divide the output classes randomly to avoid biased classification."
   ]
  },
  {
   "cell_type": "markdown",
   "metadata": {},
   "source": [
    "## 6. Give at least 2 evaluation metrics and your average performance for each of them.  Explain an interpretation of your metrics that says something human-understandable about your algorithm’s performance."
   ]
  }
 ],
 "metadata": {
  "kernelspec": {
   "display_name": "Python [conda env:py27]",
   "language": "python",
   "name": "conda-env-py27-py"
  },
  "language_info": {
   "codemirror_mode": {
    "name": "ipython",
    "version": 2
   },
   "file_extension": ".py",
   "mimetype": "text/x-python",
   "name": "python",
   "nbconvert_exporter": "python",
   "pygments_lexer": "ipython2",
   "version": "2.7.13"
  }
 },
 "nbformat": 4,
 "nbformat_minor": 2
}
